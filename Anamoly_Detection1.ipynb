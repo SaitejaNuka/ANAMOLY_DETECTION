{
 "cells": [
  {
   "cell_type": "markdown",
   "metadata": {
    "colab_type": "text",
    "id": "_3HBgBp3WSw_"
   },
   "source": [
    "# **ANAMOLY DETECTION**\n",
    "\n",
    " Anamoly Detection is also known as outlier detection. Let us understand the Outlier in the Laymen language. For instance, you are asked to remove the rotten tomatoes from bucket because if not separated it will also spoil the other good tomatoes.\n",
    " \n",
    "Similarly, there are variable/features/data points which are of no use or making no difference but could be responsible for greater loss. Thus we need to find the Outliers and remove them for better accuracy.\n",
    "\n",
    "\n",
    "![alt text](https://developer.mindsphere.io/apis/analytics-anomalydetection/images/DBSCAN.png)\n",
    "\n",
    "\n",
    "The noise are the data points which are detected as the outliers.\n"
   ]
  },
  {
   "cell_type": "markdown",
   "metadata": {
    "colab_type": "text",
    "id": "XfT4YtZRdCCj"
   },
   "source": [
    "Anamoly Detection is categorized into three broad categories - \n",
    "\n",
    "1. **Supervised Anamoly Detection**\n",
    "    In Supervised Detection, there is a classifier which classifies whether the data pints is Normal or Abnormal.\n",
    "\n",
    "2. **Unsupervised Anamoly Detection**\n",
    "    It detects the anomalies in the given dataset by assuming that the testing dataset contains the least fit to the remainder of the data set.\n",
    "\n",
    "3. **Semi-Supervised Anamoly Detection** \n",
    "    The training data set to construct the normal behaviour to the model and it checks the test data for the likelihood by the experience the model generated."
   ]
  },
  {
   "cell_type": "markdown",
   "metadata": {
    "colab_type": "text",
    "id": "EdV5k6S2eeap"
   },
   "source": [
    "***Anamolies and is classifications***\n",
    "\n",
    "Anamoly is use to identify the rare items, suspcious items, events and outcomes which can raise a harm to the model.\n",
    "\n",
    "The anamolies have several classifications - \n",
    "\n",
    "1. **Point anamolies**\n",
    "    When a single data point is too far from the rest data points which makes it merely impossible to make the cluster or map it to the data points or cluster then we simply remove such data points. This is called the point anamolies.\n",
    "![alt text](https://www.holehouse.org/mlclass/15_Anomaly_Detection_files/Image%20[2].png)\n",
    "\n",
    "2. **Contextual anamolies**\n",
    "    If the abnormality is context specific, For instance investing 1000 rupee everyday on buying shoe since you play football is normal, but odd anyway.\n",
    "\n",
    "![alt text](https://encrypted-tbn0.gstatic.com/images?q=tbn:ANd9GcS3k8-YQ-IONhaaJUXT0kebMOi8_PmguyQNchMFYXgeWnIMHZSmjQ&s)\n",
    "\n",
    "3. **Collective anamolies**\n",
    "    A set of data instance is responsible to track this anamoly. If someone is remotely using a machine and extracting the information to the local host. It gives the sign of the cyber attack.\n",
    "\n",
    "![alt text](https://i.stack.imgur.com/4ZArw.jpg)"
   ]
  },
  {
   "cell_type": "markdown",
   "metadata": {
    "colab_type": "text",
    "id": "k8tfyWUZjU4g"
   },
   "source": [
    "Anamoly Detection is similar to Novelty detection but not completly similar. Novelty Detection is mainly concerned of identifying the unobseverd pattern in the observations.\n",
    "\n",
    "Anamoly Detection Techniques \n",
    "\n",
    "Simple Statistical Methods - \n",
    "    The simple methods to find the irregularities in data points that deviate from common statistical properties of distribution including mean, median, standard deviation, etc. \n",
    "\n",
    "**Anamoly detection techniques**    \n",
    "\n",
    "Isolation Forest Anomaly Detection Algorithm\n",
    "\n",
    "Density-Based Anomaly Detection (Local Outlier Factor)Algorithm\n",
    "\n",
    "Support Vector Machine Anomaly Detection Algorithm"
   ]
  },
  {
   "cell_type": "markdown",
   "metadata": {
    "colab_type": "text",
    "id": "AOjUg-QAdCP5"
   },
   "source": [
    "## **Applications of Anamoly detection**\n",
    "\n",
    "1. Intrusion Detection \n",
    "2. Fraud Detection\n",
    "3. Fault Detection \n",
    "4. System Health Monitoring \n",
    "5. Event Detection in networks \n",
    "6. Detecting Natural disturbances.  "
   ]
  },
  {
   "cell_type": "markdown",
   "metadata": {
    "colab_type": "text",
    "id": "2WwFlv4qF29a"
   },
   "source": [
    "# **Maths used in Anamoly Detection**\n",
    "\n",
    "![alt text](https://image.slidesharecdn.com/anomalydetectionpart120150114-150121042933-conversion-gate01/95/anomaly-detection-part-1-12-638.jpg?cb=1421820000)"
   ]
  },
  {
   "cell_type": "markdown",
   "metadata": {
    "colab_type": "text",
    "id": "YUNTBMbpw0Hc"
   },
   "source": [
    "**Problem Statement**\n",
    "\n",
    "Credit Card Fraud Detection\n"
   ]
  },
  {
   "cell_type": "markdown",
   "metadata": {
    "colab_type": "text",
    "id": "G3lrCHoB6Jgg"
   },
   "source": [
    "# **Data Preprocessing and EDA**"
   ]
  },
  {
   "cell_type": "markdown",
   "metadata": {
    "colab_type": "text",
    "id": "mwCK8fNxWBnp"
   },
   "source": [
    "# Why Data processing and visualization is important ?\n",
    "\n",
    "It is very important to clean the data(preprocess) before using it to fit the model. The method helps in removing the outliers and make the data standardized.\n",
    "\n",
    "To understand the data more easily and widely we visualize the data"
   ]
  },
  {
   "cell_type": "markdown",
   "metadata": {
    "colab_type": "text",
    "id": "7FR1OCZ5ainl"
   },
   "source": [
    "Now, let us preprocess the data, visualize the data and fit the data into the model. "
   ]
  },
  {
   "cell_type": "code",
   "execution_count": 1,
   "metadata": {
    "colab": {},
    "colab_type": "code",
    "id": "4tmM1nd1OUmF"
   },
   "outputs": [],
   "source": [
    "# importing the libraries\n",
    "\n",
    "import pandas as pd\n",
    "import numpy as np"
   ]
  },
  {
   "cell_type": "markdown",
   "metadata": {
    "colab_type": "text",
    "id": "eocewetKb8a1"
   },
   "source": [
    "[Recaller - ]\n",
    "\n",
    "1. Pandas - It is an open-source library which we can use to manipulate, create or wrangle the data.\n",
    "\n",
    "2. Numpy - NumPy stands for 'Numerical Python'. It is a python package used to perform scientific computations like performing linear algebra, arranging the data, dropping the data, etc."
   ]
  },
  {
   "cell_type": "code",
   "execution_count": 2,
   "metadata": {
    "colab": {},
    "colab_type": "code",
    "id": "7XdEGLxbOenu"
   },
   "outputs": [],
   "source": [
    "#Importing the dataset so that we can use it for the further proceedings\n",
    "\n",
    "db = pd.read_csv('creditcard.csv', sep=',')"
   ]
  },
  {
   "cell_type": "markdown",
   "metadata": {
    "colab_type": "text",
    "id": "JgNd18ZOOrUK"
   },
   "source": [
    "\n",
    "Now let us define the basic information to the dataset"
   ]
  },
  {
   "cell_type": "code",
   "execution_count": 3,
   "metadata": {
    "colab": {
     "base_uri": "https://localhost:8080/",
     "height": 320
    },
    "colab_type": "code",
    "id": "NguoJRypOnrp",
    "outputId": "62b24462-a9c0-4433-ad4a-e2380e23d088"
   },
   "outputs": [
    {
     "data": {
      "text/html": [
       "<div>\n",
       "<style scoped>\n",
       "    .dataframe tbody tr th:only-of-type {\n",
       "        vertical-align: middle;\n",
       "    }\n",
       "\n",
       "    .dataframe tbody tr th {\n",
       "        vertical-align: top;\n",
       "    }\n",
       "\n",
       "    .dataframe thead th {\n",
       "        text-align: right;\n",
       "    }\n",
       "</style>\n",
       "<table border=\"1\" class=\"dataframe\">\n",
       "  <thead>\n",
       "    <tr style=\"text-align: right;\">\n",
       "      <th></th>\n",
       "      <th>Time</th>\n",
       "      <th>V1</th>\n",
       "      <th>V2</th>\n",
       "      <th>V3</th>\n",
       "      <th>V4</th>\n",
       "      <th>V5</th>\n",
       "      <th>V6</th>\n",
       "      <th>V7</th>\n",
       "      <th>V8</th>\n",
       "      <th>V9</th>\n",
       "      <th>...</th>\n",
       "      <th>V21</th>\n",
       "      <th>V22</th>\n",
       "      <th>V23</th>\n",
       "      <th>V24</th>\n",
       "      <th>V25</th>\n",
       "      <th>V26</th>\n",
       "      <th>V27</th>\n",
       "      <th>V28</th>\n",
       "      <th>Amount</th>\n",
       "      <th>Class</th>\n",
       "    </tr>\n",
       "  </thead>\n",
       "  <tbody>\n",
       "    <tr>\n",
       "      <td>count</td>\n",
       "      <td>284807.000000</td>\n",
       "      <td>2.848070e+05</td>\n",
       "      <td>2.848070e+05</td>\n",
       "      <td>2.848070e+05</td>\n",
       "      <td>2.848070e+05</td>\n",
       "      <td>2.848070e+05</td>\n",
       "      <td>2.848070e+05</td>\n",
       "      <td>2.848070e+05</td>\n",
       "      <td>2.848070e+05</td>\n",
       "      <td>2.848070e+05</td>\n",
       "      <td>...</td>\n",
       "      <td>2.848070e+05</td>\n",
       "      <td>2.848070e+05</td>\n",
       "      <td>2.848070e+05</td>\n",
       "      <td>2.848070e+05</td>\n",
       "      <td>2.848070e+05</td>\n",
       "      <td>2.848070e+05</td>\n",
       "      <td>2.848070e+05</td>\n",
       "      <td>2.848070e+05</td>\n",
       "      <td>284807.000000</td>\n",
       "      <td>284807.000000</td>\n",
       "    </tr>\n",
       "    <tr>\n",
       "      <td>mean</td>\n",
       "      <td>94813.859575</td>\n",
       "      <td>3.919560e-15</td>\n",
       "      <td>5.688174e-16</td>\n",
       "      <td>-8.769071e-15</td>\n",
       "      <td>2.782312e-15</td>\n",
       "      <td>-1.552563e-15</td>\n",
       "      <td>2.010663e-15</td>\n",
       "      <td>-1.694249e-15</td>\n",
       "      <td>-1.927028e-16</td>\n",
       "      <td>-3.137024e-15</td>\n",
       "      <td>...</td>\n",
       "      <td>1.537294e-16</td>\n",
       "      <td>7.959909e-16</td>\n",
       "      <td>5.367590e-16</td>\n",
       "      <td>4.458112e-15</td>\n",
       "      <td>1.453003e-15</td>\n",
       "      <td>1.699104e-15</td>\n",
       "      <td>-3.660161e-16</td>\n",
       "      <td>-1.206049e-16</td>\n",
       "      <td>88.349619</td>\n",
       "      <td>0.001727</td>\n",
       "    </tr>\n",
       "    <tr>\n",
       "      <td>std</td>\n",
       "      <td>47488.145955</td>\n",
       "      <td>1.958696e+00</td>\n",
       "      <td>1.651309e+00</td>\n",
       "      <td>1.516255e+00</td>\n",
       "      <td>1.415869e+00</td>\n",
       "      <td>1.380247e+00</td>\n",
       "      <td>1.332271e+00</td>\n",
       "      <td>1.237094e+00</td>\n",
       "      <td>1.194353e+00</td>\n",
       "      <td>1.098632e+00</td>\n",
       "      <td>...</td>\n",
       "      <td>7.345240e-01</td>\n",
       "      <td>7.257016e-01</td>\n",
       "      <td>6.244603e-01</td>\n",
       "      <td>6.056471e-01</td>\n",
       "      <td>5.212781e-01</td>\n",
       "      <td>4.822270e-01</td>\n",
       "      <td>4.036325e-01</td>\n",
       "      <td>3.300833e-01</td>\n",
       "      <td>250.120109</td>\n",
       "      <td>0.041527</td>\n",
       "    </tr>\n",
       "    <tr>\n",
       "      <td>min</td>\n",
       "      <td>0.000000</td>\n",
       "      <td>-5.640751e+01</td>\n",
       "      <td>-7.271573e+01</td>\n",
       "      <td>-4.832559e+01</td>\n",
       "      <td>-5.683171e+00</td>\n",
       "      <td>-1.137433e+02</td>\n",
       "      <td>-2.616051e+01</td>\n",
       "      <td>-4.355724e+01</td>\n",
       "      <td>-7.321672e+01</td>\n",
       "      <td>-1.343407e+01</td>\n",
       "      <td>...</td>\n",
       "      <td>-3.483038e+01</td>\n",
       "      <td>-1.093314e+01</td>\n",
       "      <td>-4.480774e+01</td>\n",
       "      <td>-2.836627e+00</td>\n",
       "      <td>-1.029540e+01</td>\n",
       "      <td>-2.604551e+00</td>\n",
       "      <td>-2.256568e+01</td>\n",
       "      <td>-1.543008e+01</td>\n",
       "      <td>0.000000</td>\n",
       "      <td>0.000000</td>\n",
       "    </tr>\n",
       "    <tr>\n",
       "      <td>25%</td>\n",
       "      <td>54201.500000</td>\n",
       "      <td>-9.203734e-01</td>\n",
       "      <td>-5.985499e-01</td>\n",
       "      <td>-8.903648e-01</td>\n",
       "      <td>-8.486401e-01</td>\n",
       "      <td>-6.915971e-01</td>\n",
       "      <td>-7.682956e-01</td>\n",
       "      <td>-5.540759e-01</td>\n",
       "      <td>-2.086297e-01</td>\n",
       "      <td>-6.430976e-01</td>\n",
       "      <td>...</td>\n",
       "      <td>-2.283949e-01</td>\n",
       "      <td>-5.423504e-01</td>\n",
       "      <td>-1.618463e-01</td>\n",
       "      <td>-3.545861e-01</td>\n",
       "      <td>-3.171451e-01</td>\n",
       "      <td>-3.269839e-01</td>\n",
       "      <td>-7.083953e-02</td>\n",
       "      <td>-5.295979e-02</td>\n",
       "      <td>5.600000</td>\n",
       "      <td>0.000000</td>\n",
       "    </tr>\n",
       "    <tr>\n",
       "      <td>50%</td>\n",
       "      <td>84692.000000</td>\n",
       "      <td>1.810880e-02</td>\n",
       "      <td>6.548556e-02</td>\n",
       "      <td>1.798463e-01</td>\n",
       "      <td>-1.984653e-02</td>\n",
       "      <td>-5.433583e-02</td>\n",
       "      <td>-2.741871e-01</td>\n",
       "      <td>4.010308e-02</td>\n",
       "      <td>2.235804e-02</td>\n",
       "      <td>-5.142873e-02</td>\n",
       "      <td>...</td>\n",
       "      <td>-2.945017e-02</td>\n",
       "      <td>6.781943e-03</td>\n",
       "      <td>-1.119293e-02</td>\n",
       "      <td>4.097606e-02</td>\n",
       "      <td>1.659350e-02</td>\n",
       "      <td>-5.213911e-02</td>\n",
       "      <td>1.342146e-03</td>\n",
       "      <td>1.124383e-02</td>\n",
       "      <td>22.000000</td>\n",
       "      <td>0.000000</td>\n",
       "    </tr>\n",
       "    <tr>\n",
       "      <td>75%</td>\n",
       "      <td>139320.500000</td>\n",
       "      <td>1.315642e+00</td>\n",
       "      <td>8.037239e-01</td>\n",
       "      <td>1.027196e+00</td>\n",
       "      <td>7.433413e-01</td>\n",
       "      <td>6.119264e-01</td>\n",
       "      <td>3.985649e-01</td>\n",
       "      <td>5.704361e-01</td>\n",
       "      <td>3.273459e-01</td>\n",
       "      <td>5.971390e-01</td>\n",
       "      <td>...</td>\n",
       "      <td>1.863772e-01</td>\n",
       "      <td>5.285536e-01</td>\n",
       "      <td>1.476421e-01</td>\n",
       "      <td>4.395266e-01</td>\n",
       "      <td>3.507156e-01</td>\n",
       "      <td>2.409522e-01</td>\n",
       "      <td>9.104512e-02</td>\n",
       "      <td>7.827995e-02</td>\n",
       "      <td>77.165000</td>\n",
       "      <td>0.000000</td>\n",
       "    </tr>\n",
       "    <tr>\n",
       "      <td>max</td>\n",
       "      <td>172792.000000</td>\n",
       "      <td>2.454930e+00</td>\n",
       "      <td>2.205773e+01</td>\n",
       "      <td>9.382558e+00</td>\n",
       "      <td>1.687534e+01</td>\n",
       "      <td>3.480167e+01</td>\n",
       "      <td>7.330163e+01</td>\n",
       "      <td>1.205895e+02</td>\n",
       "      <td>2.000721e+01</td>\n",
       "      <td>1.559499e+01</td>\n",
       "      <td>...</td>\n",
       "      <td>2.720284e+01</td>\n",
       "      <td>1.050309e+01</td>\n",
       "      <td>2.252841e+01</td>\n",
       "      <td>4.584549e+00</td>\n",
       "      <td>7.519589e+00</td>\n",
       "      <td>3.517346e+00</td>\n",
       "      <td>3.161220e+01</td>\n",
       "      <td>3.384781e+01</td>\n",
       "      <td>25691.160000</td>\n",
       "      <td>1.000000</td>\n",
       "    </tr>\n",
       "  </tbody>\n",
       "</table>\n",
       "<p>8 rows × 31 columns</p>\n",
       "</div>"
      ],
      "text/plain": [
       "                Time            V1            V2            V3            V4  \\\n",
       "count  284807.000000  2.848070e+05  2.848070e+05  2.848070e+05  2.848070e+05   \n",
       "mean    94813.859575  3.919560e-15  5.688174e-16 -8.769071e-15  2.782312e-15   \n",
       "std     47488.145955  1.958696e+00  1.651309e+00  1.516255e+00  1.415869e+00   \n",
       "min         0.000000 -5.640751e+01 -7.271573e+01 -4.832559e+01 -5.683171e+00   \n",
       "25%     54201.500000 -9.203734e-01 -5.985499e-01 -8.903648e-01 -8.486401e-01   \n",
       "50%     84692.000000  1.810880e-02  6.548556e-02  1.798463e-01 -1.984653e-02   \n",
       "75%    139320.500000  1.315642e+00  8.037239e-01  1.027196e+00  7.433413e-01   \n",
       "max    172792.000000  2.454930e+00  2.205773e+01  9.382558e+00  1.687534e+01   \n",
       "\n",
       "                 V5            V6            V7            V8            V9  \\\n",
       "count  2.848070e+05  2.848070e+05  2.848070e+05  2.848070e+05  2.848070e+05   \n",
       "mean  -1.552563e-15  2.010663e-15 -1.694249e-15 -1.927028e-16 -3.137024e-15   \n",
       "std    1.380247e+00  1.332271e+00  1.237094e+00  1.194353e+00  1.098632e+00   \n",
       "min   -1.137433e+02 -2.616051e+01 -4.355724e+01 -7.321672e+01 -1.343407e+01   \n",
       "25%   -6.915971e-01 -7.682956e-01 -5.540759e-01 -2.086297e-01 -6.430976e-01   \n",
       "50%   -5.433583e-02 -2.741871e-01  4.010308e-02  2.235804e-02 -5.142873e-02   \n",
       "75%    6.119264e-01  3.985649e-01  5.704361e-01  3.273459e-01  5.971390e-01   \n",
       "max    3.480167e+01  7.330163e+01  1.205895e+02  2.000721e+01  1.559499e+01   \n",
       "\n",
       "       ...           V21           V22           V23           V24  \\\n",
       "count  ...  2.848070e+05  2.848070e+05  2.848070e+05  2.848070e+05   \n",
       "mean   ...  1.537294e-16  7.959909e-16  5.367590e-16  4.458112e-15   \n",
       "std    ...  7.345240e-01  7.257016e-01  6.244603e-01  6.056471e-01   \n",
       "min    ... -3.483038e+01 -1.093314e+01 -4.480774e+01 -2.836627e+00   \n",
       "25%    ... -2.283949e-01 -5.423504e-01 -1.618463e-01 -3.545861e-01   \n",
       "50%    ... -2.945017e-02  6.781943e-03 -1.119293e-02  4.097606e-02   \n",
       "75%    ...  1.863772e-01  5.285536e-01  1.476421e-01  4.395266e-01   \n",
       "max    ...  2.720284e+01  1.050309e+01  2.252841e+01  4.584549e+00   \n",
       "\n",
       "                V25           V26           V27           V28         Amount  \\\n",
       "count  2.848070e+05  2.848070e+05  2.848070e+05  2.848070e+05  284807.000000   \n",
       "mean   1.453003e-15  1.699104e-15 -3.660161e-16 -1.206049e-16      88.349619   \n",
       "std    5.212781e-01  4.822270e-01  4.036325e-01  3.300833e-01     250.120109   \n",
       "min   -1.029540e+01 -2.604551e+00 -2.256568e+01 -1.543008e+01       0.000000   \n",
       "25%   -3.171451e-01 -3.269839e-01 -7.083953e-02 -5.295979e-02       5.600000   \n",
       "50%    1.659350e-02 -5.213911e-02  1.342146e-03  1.124383e-02      22.000000   \n",
       "75%    3.507156e-01  2.409522e-01  9.104512e-02  7.827995e-02      77.165000   \n",
       "max    7.519589e+00  3.517346e+00  3.161220e+01  3.384781e+01   25691.160000   \n",
       "\n",
       "               Class  \n",
       "count  284807.000000  \n",
       "mean        0.001727  \n",
       "std         0.041527  \n",
       "min         0.000000  \n",
       "25%         0.000000  \n",
       "50%         0.000000  \n",
       "75%         0.000000  \n",
       "max         1.000000  \n",
       "\n",
       "[8 rows x 31 columns]"
      ]
     },
     "execution_count": 3,
     "metadata": {},
     "output_type": "execute_result"
    }
   ],
   "source": [
    "# Describing the data which includes the data count, mean, min, max, standard deviation for each column.\n",
    "\n",
    "db.describe()"
   ]
  },
  {
   "cell_type": "markdown",
   "metadata": {
    "colab_type": "text",
    "id": "zaZg_ZMKO_9B"
   },
   "source": [
    "The description of the dataset with extracting the mean, mode, min and max of all the columns to show the importance of the dataset."
   ]
  },
  {
   "cell_type": "code",
   "execution_count": 4,
   "metadata": {
    "colab": {
     "base_uri": "https://localhost:8080/",
     "height": 642
    },
    "colab_type": "code",
    "id": "WiguBEYBPOaT",
    "outputId": "90b2d9bb-1301-4e56-f33a-1a300954e725"
   },
   "outputs": [
    {
     "name": "stdout",
     "output_type": "stream",
     "text": [
      "<class 'pandas.core.frame.DataFrame'>\n",
      "RangeIndex: 284807 entries, 0 to 284806\n",
      "Data columns (total 31 columns):\n",
      "Time      284807 non-null float64\n",
      "V1        284807 non-null float64\n",
      "V2        284807 non-null float64\n",
      "V3        284807 non-null float64\n",
      "V4        284807 non-null float64\n",
      "V5        284807 non-null float64\n",
      "V6        284807 non-null float64\n",
      "V7        284807 non-null float64\n",
      "V8        284807 non-null float64\n",
      "V9        284807 non-null float64\n",
      "V10       284807 non-null float64\n",
      "V11       284807 non-null float64\n",
      "V12       284807 non-null float64\n",
      "V13       284807 non-null float64\n",
      "V14       284807 non-null float64\n",
      "V15       284807 non-null float64\n",
      "V16       284807 non-null float64\n",
      "V17       284807 non-null float64\n",
      "V18       284807 non-null float64\n",
      "V19       284807 non-null float64\n",
      "V20       284807 non-null float64\n",
      "V21       284807 non-null float64\n",
      "V22       284807 non-null float64\n",
      "V23       284807 non-null float64\n",
      "V24       284807 non-null float64\n",
      "V25       284807 non-null float64\n",
      "V26       284807 non-null float64\n",
      "V27       284807 non-null float64\n",
      "V28       284807 non-null float64\n",
      "Amount    284807 non-null float64\n",
      "Class     284807 non-null int64\n",
      "dtypes: float64(30), int64(1)\n",
      "memory usage: 67.4 MB\n"
     ]
    }
   ],
   "source": [
    "# Getting the information of the dataframe.\n",
    "db.info()"
   ]
  },
  {
   "cell_type": "markdown",
   "metadata": {
    "colab_type": "text",
    "id": "gvkK7MqffJLo"
   },
   "source": [
    "Why to handle the missing values ?\n",
    "\n",
    "- If the missing value is not handled, the programmer would end up with the interpretation of the inaccurate results and thus the model would not fit.\n",
    "\n",
    "There are several ways of handling the missing values in the data :\n",
    "\n",
    "  1. Remove rows with missing values\n",
    "  2. Set some value for missing values.\n",
    "  3. You can set the median or mean for missing values.\n",
    "\n",
    "There are several methods to check the missing values"
   ]
  },
  {
   "cell_type": "code",
   "execution_count": 5,
   "metadata": {
    "colab": {
     "base_uri": "https://localhost:8080/",
     "height": 1000
    },
    "colab_type": "code",
    "id": "oeoMpCznPyNl",
    "outputId": "dc53bc49-1913-42ff-bb15-a51866bb6c1f"
   },
   "outputs": [
    {
     "data": {
      "text/html": [
       "<div>\n",
       "<style scoped>\n",
       "    .dataframe tbody tr th:only-of-type {\n",
       "        vertical-align: middle;\n",
       "    }\n",
       "\n",
       "    .dataframe tbody tr th {\n",
       "        vertical-align: top;\n",
       "    }\n",
       "\n",
       "    .dataframe thead th {\n",
       "        text-align: right;\n",
       "    }\n",
       "</style>\n",
       "<table border=\"1\" class=\"dataframe\">\n",
       "  <thead>\n",
       "    <tr style=\"text-align: right;\">\n",
       "      <th></th>\n",
       "      <th>Total</th>\n",
       "      <th>Percent</th>\n",
       "    </tr>\n",
       "  </thead>\n",
       "  <tbody>\n",
       "    <tr>\n",
       "      <td>Class</td>\n",
       "      <td>0</td>\n",
       "      <td>0.0</td>\n",
       "    </tr>\n",
       "    <tr>\n",
       "      <td>V14</td>\n",
       "      <td>0</td>\n",
       "      <td>0.0</td>\n",
       "    </tr>\n",
       "    <tr>\n",
       "      <td>V1</td>\n",
       "      <td>0</td>\n",
       "      <td>0.0</td>\n",
       "    </tr>\n",
       "    <tr>\n",
       "      <td>V2</td>\n",
       "      <td>0</td>\n",
       "      <td>0.0</td>\n",
       "    </tr>\n",
       "    <tr>\n",
       "      <td>V3</td>\n",
       "      <td>0</td>\n",
       "      <td>0.0</td>\n",
       "    </tr>\n",
       "    <tr>\n",
       "      <td>V4</td>\n",
       "      <td>0</td>\n",
       "      <td>0.0</td>\n",
       "    </tr>\n",
       "    <tr>\n",
       "      <td>V5</td>\n",
       "      <td>0</td>\n",
       "      <td>0.0</td>\n",
       "    </tr>\n",
       "    <tr>\n",
       "      <td>V6</td>\n",
       "      <td>0</td>\n",
       "      <td>0.0</td>\n",
       "    </tr>\n",
       "    <tr>\n",
       "      <td>V7</td>\n",
       "      <td>0</td>\n",
       "      <td>0.0</td>\n",
       "    </tr>\n",
       "    <tr>\n",
       "      <td>V8</td>\n",
       "      <td>0</td>\n",
       "      <td>0.0</td>\n",
       "    </tr>\n",
       "    <tr>\n",
       "      <td>V9</td>\n",
       "      <td>0</td>\n",
       "      <td>0.0</td>\n",
       "    </tr>\n",
       "    <tr>\n",
       "      <td>V10</td>\n",
       "      <td>0</td>\n",
       "      <td>0.0</td>\n",
       "    </tr>\n",
       "    <tr>\n",
       "      <td>V11</td>\n",
       "      <td>0</td>\n",
       "      <td>0.0</td>\n",
       "    </tr>\n",
       "    <tr>\n",
       "      <td>V12</td>\n",
       "      <td>0</td>\n",
       "      <td>0.0</td>\n",
       "    </tr>\n",
       "    <tr>\n",
       "      <td>V13</td>\n",
       "      <td>0</td>\n",
       "      <td>0.0</td>\n",
       "    </tr>\n",
       "    <tr>\n",
       "      <td>V15</td>\n",
       "      <td>0</td>\n",
       "      <td>0.0</td>\n",
       "    </tr>\n",
       "    <tr>\n",
       "      <td>Amount</td>\n",
       "      <td>0</td>\n",
       "      <td>0.0</td>\n",
       "    </tr>\n",
       "    <tr>\n",
       "      <td>V16</td>\n",
       "      <td>0</td>\n",
       "      <td>0.0</td>\n",
       "    </tr>\n",
       "    <tr>\n",
       "      <td>V17</td>\n",
       "      <td>0</td>\n",
       "      <td>0.0</td>\n",
       "    </tr>\n",
       "    <tr>\n",
       "      <td>V18</td>\n",
       "      <td>0</td>\n",
       "      <td>0.0</td>\n",
       "    </tr>\n",
       "    <tr>\n",
       "      <td>V19</td>\n",
       "      <td>0</td>\n",
       "      <td>0.0</td>\n",
       "    </tr>\n",
       "    <tr>\n",
       "      <td>V20</td>\n",
       "      <td>0</td>\n",
       "      <td>0.0</td>\n",
       "    </tr>\n",
       "    <tr>\n",
       "      <td>V21</td>\n",
       "      <td>0</td>\n",
       "      <td>0.0</td>\n",
       "    </tr>\n",
       "    <tr>\n",
       "      <td>V22</td>\n",
       "      <td>0</td>\n",
       "      <td>0.0</td>\n",
       "    </tr>\n",
       "    <tr>\n",
       "      <td>V23</td>\n",
       "      <td>0</td>\n",
       "      <td>0.0</td>\n",
       "    </tr>\n",
       "    <tr>\n",
       "      <td>V24</td>\n",
       "      <td>0</td>\n",
       "      <td>0.0</td>\n",
       "    </tr>\n",
       "    <tr>\n",
       "      <td>V25</td>\n",
       "      <td>0</td>\n",
       "      <td>0.0</td>\n",
       "    </tr>\n",
       "    <tr>\n",
       "      <td>V26</td>\n",
       "      <td>0</td>\n",
       "      <td>0.0</td>\n",
       "    </tr>\n",
       "    <tr>\n",
       "      <td>V27</td>\n",
       "      <td>0</td>\n",
       "      <td>0.0</td>\n",
       "    </tr>\n",
       "    <tr>\n",
       "      <td>V28</td>\n",
       "      <td>0</td>\n",
       "      <td>0.0</td>\n",
       "    </tr>\n",
       "    <tr>\n",
       "      <td>Time</td>\n",
       "      <td>0</td>\n",
       "      <td>0.0</td>\n",
       "    </tr>\n",
       "  </tbody>\n",
       "</table>\n",
       "</div>"
      ],
      "text/plain": [
       "        Total  Percent\n",
       "Class       0      0.0\n",
       "V14         0      0.0\n",
       "V1          0      0.0\n",
       "V2          0      0.0\n",
       "V3          0      0.0\n",
       "V4          0      0.0\n",
       "V5          0      0.0\n",
       "V6          0      0.0\n",
       "V7          0      0.0\n",
       "V8          0      0.0\n",
       "V9          0      0.0\n",
       "V10         0      0.0\n",
       "V11         0      0.0\n",
       "V12         0      0.0\n",
       "V13         0      0.0\n",
       "V15         0      0.0\n",
       "Amount      0      0.0\n",
       "V16         0      0.0\n",
       "V17         0      0.0\n",
       "V18         0      0.0\n",
       "V19         0      0.0\n",
       "V20         0      0.0\n",
       "V21         0      0.0\n",
       "V22         0      0.0\n",
       "V23         0      0.0\n",
       "V24         0      0.0\n",
       "V25         0      0.0\n",
       "V26         0      0.0\n",
       "V27         0      0.0\n",
       "V28         0      0.0\n",
       "Time        0      0.0"
      ]
     },
     "execution_count": 5,
     "metadata": {},
     "output_type": "execute_result"
    }
   ],
   "source": [
    "# Checking out the missing values for the dataset so that we can remove it and work further with the dataset. This is a mere part of Data Cleaning.\n",
    "total = db.isnull().sum().sort_values(ascending=False)\n",
    "percent = (db.isnull().sum()/db.isnull().count()).sort_values(ascending=False)\n",
    "missing_data = pd.concat([total, percent], axis=1, keys=['Total', 'Percent'])\n",
    "missing_data"
   ]
  },
  {
   "cell_type": "markdown",
   "metadata": {
    "colab_type": "text",
    "id": "ir8P1k78QDtM"
   },
   "source": [
    "After clearly analyzing the missing value we can remove the last column from the dataset as only one column is given that is time and everything is empty"
   ]
  },
  {
   "cell_type": "code",
   "execution_count": 6,
   "metadata": {
    "colab": {},
    "colab_type": "code",
    "id": "0X6QUls3QR3F"
   },
   "outputs": [],
   "source": [
    "df = db.drop(db.index[[27818]])"
   ]
  },
  {
   "cell_type": "markdown",
   "metadata": {
    "colab_type": "text",
    "id": "J5LguSKSRExk"
   },
   "source": [
    "Now again checking the missing value"
   ]
  },
  {
   "cell_type": "code",
   "execution_count": 7,
   "metadata": {
    "colab": {
     "base_uri": "https://localhost:8080/",
     "height": 1000
    },
    "colab_type": "code",
    "id": "xezkaYdFQ_GP",
    "outputId": "e72d70cd-5a62-41dc-fbb0-459a30a2e12e"
   },
   "outputs": [
    {
     "data": {
      "text/html": [
       "<div>\n",
       "<style scoped>\n",
       "    .dataframe tbody tr th:only-of-type {\n",
       "        vertical-align: middle;\n",
       "    }\n",
       "\n",
       "    .dataframe tbody tr th {\n",
       "        vertical-align: top;\n",
       "    }\n",
       "\n",
       "    .dataframe thead th {\n",
       "        text-align: right;\n",
       "    }\n",
       "</style>\n",
       "<table border=\"1\" class=\"dataframe\">\n",
       "  <thead>\n",
       "    <tr style=\"text-align: right;\">\n",
       "      <th></th>\n",
       "      <th>Total</th>\n",
       "      <th>Percent</th>\n",
       "    </tr>\n",
       "  </thead>\n",
       "  <tbody>\n",
       "    <tr>\n",
       "      <td>Class</td>\n",
       "      <td>0</td>\n",
       "      <td>0.0</td>\n",
       "    </tr>\n",
       "    <tr>\n",
       "      <td>V14</td>\n",
       "      <td>0</td>\n",
       "      <td>0.0</td>\n",
       "    </tr>\n",
       "    <tr>\n",
       "      <td>V1</td>\n",
       "      <td>0</td>\n",
       "      <td>0.0</td>\n",
       "    </tr>\n",
       "    <tr>\n",
       "      <td>V2</td>\n",
       "      <td>0</td>\n",
       "      <td>0.0</td>\n",
       "    </tr>\n",
       "    <tr>\n",
       "      <td>V3</td>\n",
       "      <td>0</td>\n",
       "      <td>0.0</td>\n",
       "    </tr>\n",
       "    <tr>\n",
       "      <td>V4</td>\n",
       "      <td>0</td>\n",
       "      <td>0.0</td>\n",
       "    </tr>\n",
       "    <tr>\n",
       "      <td>V5</td>\n",
       "      <td>0</td>\n",
       "      <td>0.0</td>\n",
       "    </tr>\n",
       "    <tr>\n",
       "      <td>V6</td>\n",
       "      <td>0</td>\n",
       "      <td>0.0</td>\n",
       "    </tr>\n",
       "    <tr>\n",
       "      <td>V7</td>\n",
       "      <td>0</td>\n",
       "      <td>0.0</td>\n",
       "    </tr>\n",
       "    <tr>\n",
       "      <td>V8</td>\n",
       "      <td>0</td>\n",
       "      <td>0.0</td>\n",
       "    </tr>\n",
       "    <tr>\n",
       "      <td>V9</td>\n",
       "      <td>0</td>\n",
       "      <td>0.0</td>\n",
       "    </tr>\n",
       "    <tr>\n",
       "      <td>V10</td>\n",
       "      <td>0</td>\n",
       "      <td>0.0</td>\n",
       "    </tr>\n",
       "    <tr>\n",
       "      <td>V11</td>\n",
       "      <td>0</td>\n",
       "      <td>0.0</td>\n",
       "    </tr>\n",
       "    <tr>\n",
       "      <td>V12</td>\n",
       "      <td>0</td>\n",
       "      <td>0.0</td>\n",
       "    </tr>\n",
       "    <tr>\n",
       "      <td>V13</td>\n",
       "      <td>0</td>\n",
       "      <td>0.0</td>\n",
       "    </tr>\n",
       "    <tr>\n",
       "      <td>V15</td>\n",
       "      <td>0</td>\n",
       "      <td>0.0</td>\n",
       "    </tr>\n",
       "    <tr>\n",
       "      <td>Amount</td>\n",
       "      <td>0</td>\n",
       "      <td>0.0</td>\n",
       "    </tr>\n",
       "    <tr>\n",
       "      <td>V16</td>\n",
       "      <td>0</td>\n",
       "      <td>0.0</td>\n",
       "    </tr>\n",
       "    <tr>\n",
       "      <td>V17</td>\n",
       "      <td>0</td>\n",
       "      <td>0.0</td>\n",
       "    </tr>\n",
       "    <tr>\n",
       "      <td>V18</td>\n",
       "      <td>0</td>\n",
       "      <td>0.0</td>\n",
       "    </tr>\n",
       "    <tr>\n",
       "      <td>V19</td>\n",
       "      <td>0</td>\n",
       "      <td>0.0</td>\n",
       "    </tr>\n",
       "    <tr>\n",
       "      <td>V20</td>\n",
       "      <td>0</td>\n",
       "      <td>0.0</td>\n",
       "    </tr>\n",
       "    <tr>\n",
       "      <td>V21</td>\n",
       "      <td>0</td>\n",
       "      <td>0.0</td>\n",
       "    </tr>\n",
       "    <tr>\n",
       "      <td>V22</td>\n",
       "      <td>0</td>\n",
       "      <td>0.0</td>\n",
       "    </tr>\n",
       "    <tr>\n",
       "      <td>V23</td>\n",
       "      <td>0</td>\n",
       "      <td>0.0</td>\n",
       "    </tr>\n",
       "    <tr>\n",
       "      <td>V24</td>\n",
       "      <td>0</td>\n",
       "      <td>0.0</td>\n",
       "    </tr>\n",
       "    <tr>\n",
       "      <td>V25</td>\n",
       "      <td>0</td>\n",
       "      <td>0.0</td>\n",
       "    </tr>\n",
       "    <tr>\n",
       "      <td>V26</td>\n",
       "      <td>0</td>\n",
       "      <td>0.0</td>\n",
       "    </tr>\n",
       "    <tr>\n",
       "      <td>V27</td>\n",
       "      <td>0</td>\n",
       "      <td>0.0</td>\n",
       "    </tr>\n",
       "    <tr>\n",
       "      <td>V28</td>\n",
       "      <td>0</td>\n",
       "      <td>0.0</td>\n",
       "    </tr>\n",
       "    <tr>\n",
       "      <td>Time</td>\n",
       "      <td>0</td>\n",
       "      <td>0.0</td>\n",
       "    </tr>\n",
       "  </tbody>\n",
       "</table>\n",
       "</div>"
      ],
      "text/plain": [
       "        Total  Percent\n",
       "Class       0      0.0\n",
       "V14         0      0.0\n",
       "V1          0      0.0\n",
       "V2          0      0.0\n",
       "V3          0      0.0\n",
       "V4          0      0.0\n",
       "V5          0      0.0\n",
       "V6          0      0.0\n",
       "V7          0      0.0\n",
       "V8          0      0.0\n",
       "V9          0      0.0\n",
       "V10         0      0.0\n",
       "V11         0      0.0\n",
       "V12         0      0.0\n",
       "V13         0      0.0\n",
       "V15         0      0.0\n",
       "Amount      0      0.0\n",
       "V16         0      0.0\n",
       "V17         0      0.0\n",
       "V18         0      0.0\n",
       "V19         0      0.0\n",
       "V20         0      0.0\n",
       "V21         0      0.0\n",
       "V22         0      0.0\n",
       "V23         0      0.0\n",
       "V24         0      0.0\n",
       "V25         0      0.0\n",
       "V26         0      0.0\n",
       "V27         0      0.0\n",
       "V28         0      0.0\n",
       "Time        0      0.0"
      ]
     },
     "execution_count": 7,
     "metadata": {},
     "output_type": "execute_result"
    }
   ],
   "source": [
    "total = df.isnull().sum().sort_values(ascending=False)\n",
    "percent = (df.isnull().sum()/df.isnull().count()).sort_values(ascending=False)\n",
    "missing_data = pd.concat([total, percent], axis=1, keys=['Total', 'Percent'])\n",
    "missing_data"
   ]
  },
  {
   "cell_type": "code",
   "execution_count": 8,
   "metadata": {
    "colab": {
     "base_uri": "https://localhost:8080/",
     "height": 1000
    },
    "colab_type": "code",
    "id": "xiV9TFasRZgw",
    "outputId": "fd13047b-8430-46a0-f34c-525652e2a8b0"
   },
   "outputs": [
    {
     "data": {
      "text/html": [
       "<div>\n",
       "<style scoped>\n",
       "    .dataframe tbody tr th:only-of-type {\n",
       "        vertical-align: middle;\n",
       "    }\n",
       "\n",
       "    .dataframe tbody tr th {\n",
       "        vertical-align: top;\n",
       "    }\n",
       "\n",
       "    .dataframe thead th {\n",
       "        text-align: right;\n",
       "    }\n",
       "</style>\n",
       "<table border=\"1\" class=\"dataframe\">\n",
       "  <thead>\n",
       "    <tr style=\"text-align: right;\">\n",
       "      <th></th>\n",
       "      <th>Time</th>\n",
       "      <th>V1</th>\n",
       "      <th>V2</th>\n",
       "      <th>V3</th>\n",
       "      <th>V4</th>\n",
       "      <th>V5</th>\n",
       "      <th>V6</th>\n",
       "      <th>V7</th>\n",
       "      <th>V8</th>\n",
       "      <th>V9</th>\n",
       "      <th>...</th>\n",
       "      <th>V21</th>\n",
       "      <th>V22</th>\n",
       "      <th>V23</th>\n",
       "      <th>V24</th>\n",
       "      <th>V25</th>\n",
       "      <th>V26</th>\n",
       "      <th>V27</th>\n",
       "      <th>V28</th>\n",
       "      <th>Amount</th>\n",
       "      <th>Class</th>\n",
       "    </tr>\n",
       "  </thead>\n",
       "  <tbody>\n",
       "    <tr>\n",
       "      <td>Time</td>\n",
       "      <td>1.000000</td>\n",
       "      <td>1.173999e-01</td>\n",
       "      <td>-1.059337e-02</td>\n",
       "      <td>-4.196209e-01</td>\n",
       "      <td>-1.052640e-01</td>\n",
       "      <td>1.730724e-01</td>\n",
       "      <td>-6.302059e-02</td>\n",
       "      <td>8.471567e-02</td>\n",
       "      <td>-3.695050e-02</td>\n",
       "      <td>-8.656166e-03</td>\n",
       "      <td>...</td>\n",
       "      <td>4.473316e-02</td>\n",
       "      <td>1.440524e-01</td>\n",
       "      <td>5.114265e-02</td>\n",
       "      <td>-1.618579e-02</td>\n",
       "      <td>-2.330791e-01</td>\n",
       "      <td>-4.141524e-02</td>\n",
       "      <td>-5.134468e-03</td>\n",
       "      <td>-9.412592e-03</td>\n",
       "      <td>-0.010598</td>\n",
       "      <td>-0.012323</td>\n",
       "    </tr>\n",
       "    <tr>\n",
       "      <td>V1</td>\n",
       "      <td>0.117400</td>\n",
       "      <td>1.000000e+00</td>\n",
       "      <td>9.567456e-09</td>\n",
       "      <td>8.116864e-07</td>\n",
       "      <td>1.894463e-06</td>\n",
       "      <td>1.452649e-07</td>\n",
       "      <td>2.151523e-06</td>\n",
       "      <td>-5.862596e-07</td>\n",
       "      <td>5.363733e-07</td>\n",
       "      <td>-2.402044e-06</td>\n",
       "      <td>...</td>\n",
       "      <td>1.518022e-06</td>\n",
       "      <td>4.368534e-06</td>\n",
       "      <td>-7.831744e-08</td>\n",
       "      <td>2.152902e-06</td>\n",
       "      <td>-2.668981e-06</td>\n",
       "      <td>4.348882e-06</td>\n",
       "      <td>-7.694528e-08</td>\n",
       "      <td>-6.852587e-08</td>\n",
       "      <td>-0.227708</td>\n",
       "      <td>-0.101347</td>\n",
       "    </tr>\n",
       "    <tr>\n",
       "      <td>V2</td>\n",
       "      <td>-0.010593</td>\n",
       "      <td>9.567456e-09</td>\n",
       "      <td>1.000000e+00</td>\n",
       "      <td>-4.437284e-09</td>\n",
       "      <td>-1.035655e-08</td>\n",
       "      <td>-7.941263e-10</td>\n",
       "      <td>-1.176183e-08</td>\n",
       "      <td>3.204932e-09</td>\n",
       "      <td>-2.932217e-09</td>\n",
       "      <td>1.313137e-08</td>\n",
       "      <td>...</td>\n",
       "      <td>-8.298643e-09</td>\n",
       "      <td>-2.388167e-08</td>\n",
       "      <td>4.281418e-10</td>\n",
       "      <td>-1.176937e-08</td>\n",
       "      <td>1.459064e-08</td>\n",
       "      <td>-2.377424e-08</td>\n",
       "      <td>4.206399e-10</td>\n",
       "      <td>3.746133e-10</td>\n",
       "      <td>-0.531409</td>\n",
       "      <td>0.091289</td>\n",
       "    </tr>\n",
       "    <tr>\n",
       "      <td>V3</td>\n",
       "      <td>-0.419621</td>\n",
       "      <td>8.116864e-07</td>\n",
       "      <td>-4.437284e-09</td>\n",
       "      <td>1.000000e+00</td>\n",
       "      <td>-8.786315e-07</td>\n",
       "      <td>-6.737232e-08</td>\n",
       "      <td>-9.978536e-07</td>\n",
       "      <td>2.719009e-07</td>\n",
       "      <td>-2.487642e-07</td>\n",
       "      <td>1.114043e-06</td>\n",
       "      <td>...</td>\n",
       "      <td>-7.040426e-07</td>\n",
       "      <td>-2.026080e-06</td>\n",
       "      <td>3.632279e-08</td>\n",
       "      <td>-9.984932e-07</td>\n",
       "      <td>1.237845e-06</td>\n",
       "      <td>-2.016965e-06</td>\n",
       "      <td>3.568640e-08</td>\n",
       "      <td>3.178157e-08</td>\n",
       "      <td>-0.210881</td>\n",
       "      <td>-0.192961</td>\n",
       "    </tr>\n",
       "    <tr>\n",
       "      <td>V4</td>\n",
       "      <td>-0.105264</td>\n",
       "      <td>1.894463e-06</td>\n",
       "      <td>-1.035655e-08</td>\n",
       "      <td>-8.786315e-07</td>\n",
       "      <td>1.000000e+00</td>\n",
       "      <td>-1.572459e-07</td>\n",
       "      <td>-2.328973e-06</td>\n",
       "      <td>6.346122e-07</td>\n",
       "      <td>-5.806115e-07</td>\n",
       "      <td>2.600157e-06</td>\n",
       "      <td>...</td>\n",
       "      <td>-1.643224e-06</td>\n",
       "      <td>-4.728836e-06</td>\n",
       "      <td>8.477679e-08</td>\n",
       "      <td>-2.330466e-06</td>\n",
       "      <td>2.889109e-06</td>\n",
       "      <td>-4.707563e-06</td>\n",
       "      <td>8.329146e-08</td>\n",
       "      <td>7.417765e-08</td>\n",
       "      <td>0.098731</td>\n",
       "      <td>0.133448</td>\n",
       "    </tr>\n",
       "    <tr>\n",
       "      <td>V5</td>\n",
       "      <td>0.173072</td>\n",
       "      <td>1.452649e-07</td>\n",
       "      <td>-7.941263e-10</td>\n",
       "      <td>-6.737232e-08</td>\n",
       "      <td>-1.572459e-07</td>\n",
       "      <td>1.000000e+00</td>\n",
       "      <td>-1.785826e-07</td>\n",
       "      <td>4.866124e-08</td>\n",
       "      <td>-4.452053e-08</td>\n",
       "      <td>1.993766e-07</td>\n",
       "      <td>...</td>\n",
       "      <td>-1.260002e-07</td>\n",
       "      <td>-3.626010e-07</td>\n",
       "      <td>6.500573e-09</td>\n",
       "      <td>-1.786971e-07</td>\n",
       "      <td>2.215331e-07</td>\n",
       "      <td>-3.609698e-07</td>\n",
       "      <td>6.386681e-09</td>\n",
       "      <td>5.687845e-09</td>\n",
       "      <td>-0.386356</td>\n",
       "      <td>-0.094974</td>\n",
       "    </tr>\n",
       "    <tr>\n",
       "      <td>V6</td>\n",
       "      <td>-0.063021</td>\n",
       "      <td>2.151523e-06</td>\n",
       "      <td>-1.176183e-08</td>\n",
       "      <td>-9.978536e-07</td>\n",
       "      <td>-2.328973e-06</td>\n",
       "      <td>-1.785826e-07</td>\n",
       "      <td>1.000000e+00</td>\n",
       "      <td>7.207231e-07</td>\n",
       "      <td>-6.593950e-07</td>\n",
       "      <td>2.952974e-06</td>\n",
       "      <td>...</td>\n",
       "      <td>-1.866194e-06</td>\n",
       "      <td>-5.370494e-06</td>\n",
       "      <td>9.628020e-08</td>\n",
       "      <td>-2.646689e-06</td>\n",
       "      <td>3.281134e-06</td>\n",
       "      <td>-5.346335e-06</td>\n",
       "      <td>9.459333e-08</td>\n",
       "      <td>8.424286e-08</td>\n",
       "      <td>0.215980</td>\n",
       "      <td>-0.043643</td>\n",
       "    </tr>\n",
       "    <tr>\n",
       "      <td>V7</td>\n",
       "      <td>0.084716</td>\n",
       "      <td>-5.862596e-07</td>\n",
       "      <td>3.204932e-09</td>\n",
       "      <td>2.719009e-07</td>\n",
       "      <td>6.346122e-07</td>\n",
       "      <td>4.866124e-08</td>\n",
       "      <td>7.207231e-07</td>\n",
       "      <td>1.000000e+00</td>\n",
       "      <td>1.796758e-07</td>\n",
       "      <td>-8.046434e-07</td>\n",
       "      <td>...</td>\n",
       "      <td>5.085113e-07</td>\n",
       "      <td>1.463384e-06</td>\n",
       "      <td>-2.623499e-08</td>\n",
       "      <td>7.211851e-07</td>\n",
       "      <td>-8.940625e-07</td>\n",
       "      <td>1.456800e-06</td>\n",
       "      <td>-2.577534e-08</td>\n",
       "      <td>-2.295498e-08</td>\n",
       "      <td>0.397312</td>\n",
       "      <td>-0.187257</td>\n",
       "    </tr>\n",
       "    <tr>\n",
       "      <td>V8</td>\n",
       "      <td>-0.036951</td>\n",
       "      <td>5.363733e-07</td>\n",
       "      <td>-2.932217e-09</td>\n",
       "      <td>-2.487642e-07</td>\n",
       "      <td>-5.806115e-07</td>\n",
       "      <td>-4.452053e-08</td>\n",
       "      <td>-6.593950e-07</td>\n",
       "      <td>1.796758e-07</td>\n",
       "      <td>1.000000e+00</td>\n",
       "      <td>7.361743e-07</td>\n",
       "      <td>...</td>\n",
       "      <td>-4.652408e-07</td>\n",
       "      <td>-1.338861e-06</td>\n",
       "      <td>2.400259e-08</td>\n",
       "      <td>-6.598177e-07</td>\n",
       "      <td>8.179845e-07</td>\n",
       "      <td>-1.332838e-06</td>\n",
       "      <td>2.358205e-08</td>\n",
       "      <td>2.100169e-08</td>\n",
       "      <td>-0.103079</td>\n",
       "      <td>0.019875</td>\n",
       "    </tr>\n",
       "    <tr>\n",
       "      <td>V9</td>\n",
       "      <td>-0.008656</td>\n",
       "      <td>-2.402044e-06</td>\n",
       "      <td>1.313137e-08</td>\n",
       "      <td>1.114043e-06</td>\n",
       "      <td>2.600157e-06</td>\n",
       "      <td>1.993766e-07</td>\n",
       "      <td>2.952974e-06</td>\n",
       "      <td>-8.046434e-07</td>\n",
       "      <td>7.361743e-07</td>\n",
       "      <td>1.000000e+00</td>\n",
       "      <td>...</td>\n",
       "      <td>2.083491e-06</td>\n",
       "      <td>5.995830e-06</td>\n",
       "      <td>-1.074910e-07</td>\n",
       "      <td>2.954866e-06</td>\n",
       "      <td>-3.663186e-06</td>\n",
       "      <td>5.968857e-06</td>\n",
       "      <td>-1.056077e-07</td>\n",
       "      <td>-9.405201e-08</td>\n",
       "      <td>-0.044245</td>\n",
       "      <td>-0.097733</td>\n",
       "    </tr>\n",
       "    <tr>\n",
       "      <td>V10</td>\n",
       "      <td>0.030613</td>\n",
       "      <td>2.016698e-06</td>\n",
       "      <td>-1.102478e-08</td>\n",
       "      <td>-9.353233e-07</td>\n",
       "      <td>-2.183029e-06</td>\n",
       "      <td>-1.673918e-07</td>\n",
       "      <td>-2.479245e-06</td>\n",
       "      <td>6.755591e-07</td>\n",
       "      <td>-6.180742e-07</td>\n",
       "      <td>2.767926e-06</td>\n",
       "      <td>...</td>\n",
       "      <td>-1.749249e-06</td>\n",
       "      <td>-5.033953e-06</td>\n",
       "      <td>9.024682e-08</td>\n",
       "      <td>-2.480834e-06</td>\n",
       "      <td>3.075522e-06</td>\n",
       "      <td>-5.011308e-06</td>\n",
       "      <td>8.866566e-08</td>\n",
       "      <td>7.896380e-08</td>\n",
       "      <td>-0.101503</td>\n",
       "      <td>-0.216883</td>\n",
       "    </tr>\n",
       "    <tr>\n",
       "      <td>V11</td>\n",
       "      <td>-0.247695</td>\n",
       "      <td>2.380996e-06</td>\n",
       "      <td>-1.301630e-08</td>\n",
       "      <td>-1.104281e-06</td>\n",
       "      <td>-2.577372e-06</td>\n",
       "      <td>-1.976296e-07</td>\n",
       "      <td>-2.927098e-06</td>\n",
       "      <td>7.975926e-07</td>\n",
       "      <td>-7.297235e-07</td>\n",
       "      <td>3.267926e-06</td>\n",
       "      <td>...</td>\n",
       "      <td>-2.065234e-06</td>\n",
       "      <td>-5.943290e-06</td>\n",
       "      <td>1.065491e-07</td>\n",
       "      <td>-2.928974e-06</td>\n",
       "      <td>3.631087e-06</td>\n",
       "      <td>-5.916554e-06</td>\n",
       "      <td>1.046823e-07</td>\n",
       "      <td>9.322787e-08</td>\n",
       "      <td>0.000103</td>\n",
       "      <td>0.154876</td>\n",
       "    </tr>\n",
       "    <tr>\n",
       "      <td>V12</td>\n",
       "      <td>0.124348</td>\n",
       "      <td>4.327533e-07</td>\n",
       "      <td>-2.365752e-09</td>\n",
       "      <td>-2.007064e-07</td>\n",
       "      <td>-4.684453e-07</td>\n",
       "      <td>-3.591977e-08</td>\n",
       "      <td>-5.320089e-07</td>\n",
       "      <td>1.449649e-07</td>\n",
       "      <td>-1.326295e-07</td>\n",
       "      <td>5.939555e-07</td>\n",
       "      <td>...</td>\n",
       "      <td>-3.753626e-07</td>\n",
       "      <td>-1.080211e-06</td>\n",
       "      <td>1.936562e-08</td>\n",
       "      <td>-5.323500e-07</td>\n",
       "      <td>6.599611e-07</td>\n",
       "      <td>-1.075352e-06</td>\n",
       "      <td>1.902632e-08</td>\n",
       "      <td>1.694445e-08</td>\n",
       "      <td>-0.009542</td>\n",
       "      <td>-0.260593</td>\n",
       "    </tr>\n",
       "    <tr>\n",
       "      <td>V13</td>\n",
       "      <td>-0.065907</td>\n",
       "      <td>2.525296e-06</td>\n",
       "      <td>-1.380515e-08</td>\n",
       "      <td>-1.171205e-06</td>\n",
       "      <td>-2.733573e-06</td>\n",
       "      <td>-2.096068e-07</td>\n",
       "      <td>-3.104494e-06</td>\n",
       "      <td>8.459305e-07</td>\n",
       "      <td>-7.739482e-07</td>\n",
       "      <td>3.465978e-06</td>\n",
       "      <td>...</td>\n",
       "      <td>-2.190397e-06</td>\n",
       "      <td>-6.303482e-06</td>\n",
       "      <td>1.130064e-07</td>\n",
       "      <td>-3.106484e-06</td>\n",
       "      <td>3.851148e-06</td>\n",
       "      <td>-6.275125e-06</td>\n",
       "      <td>1.110265e-07</td>\n",
       "      <td>9.887792e-08</td>\n",
       "      <td>0.005292</td>\n",
       "      <td>-0.004570</td>\n",
       "    </tr>\n",
       "    <tr>\n",
       "      <td>V14</td>\n",
       "      <td>-0.098754</td>\n",
       "      <td>-1.910864e-06</td>\n",
       "      <td>1.044621e-08</td>\n",
       "      <td>8.862385e-07</td>\n",
       "      <td>2.068466e-06</td>\n",
       "      <td>1.586072e-07</td>\n",
       "      <td>2.349137e-06</td>\n",
       "      <td>-6.401065e-07</td>\n",
       "      <td>5.856383e-07</td>\n",
       "      <td>-2.622668e-06</td>\n",
       "      <td>...</td>\n",
       "      <td>1.657450e-06</td>\n",
       "      <td>4.769777e-06</td>\n",
       "      <td>-8.551076e-08</td>\n",
       "      <td>2.350643e-06</td>\n",
       "      <td>-2.914122e-06</td>\n",
       "      <td>4.748320e-06</td>\n",
       "      <td>-8.401257e-08</td>\n",
       "      <td>-7.481986e-08</td>\n",
       "      <td>0.033752</td>\n",
       "      <td>-0.302544</td>\n",
       "    </tr>\n",
       "    <tr>\n",
       "      <td>V15</td>\n",
       "      <td>-0.183447</td>\n",
       "      <td>-4.315698e-06</td>\n",
       "      <td>2.359282e-08</td>\n",
       "      <td>2.001575e-06</td>\n",
       "      <td>4.671641e-06</td>\n",
       "      <td>3.582154e-07</td>\n",
       "      <td>5.305539e-06</td>\n",
       "      <td>-1.445684e-06</td>\n",
       "      <td>1.322667e-06</td>\n",
       "      <td>-5.923311e-06</td>\n",
       "      <td>...</td>\n",
       "      <td>3.743360e-06</td>\n",
       "      <td>1.077257e-05</td>\n",
       "      <td>-1.931265e-07</td>\n",
       "      <td>5.308940e-06</td>\n",
       "      <td>-6.581561e-06</td>\n",
       "      <td>1.072411e-05</td>\n",
       "      <td>-1.897429e-07</td>\n",
       "      <td>-1.689811e-07</td>\n",
       "      <td>-0.002984</td>\n",
       "      <td>-0.004223</td>\n",
       "    </tr>\n",
       "    <tr>\n",
       "      <td>V16</td>\n",
       "      <td>0.011901</td>\n",
       "      <td>1.068159e-06</td>\n",
       "      <td>-5.839353e-09</td>\n",
       "      <td>-4.954007e-07</td>\n",
       "      <td>-1.156257e-06</td>\n",
       "      <td>-8.866026e-08</td>\n",
       "      <td>-1.313150e-06</td>\n",
       "      <td>3.578147e-07</td>\n",
       "      <td>-3.273674e-07</td>\n",
       "      <td>1.466052e-06</td>\n",
       "      <td>...</td>\n",
       "      <td>-9.265022e-07</td>\n",
       "      <td>-2.666270e-06</td>\n",
       "      <td>4.779988e-08</td>\n",
       "      <td>-1.313992e-06</td>\n",
       "      <td>1.628972e-06</td>\n",
       "      <td>-2.654275e-06</td>\n",
       "      <td>4.696240e-08</td>\n",
       "      <td>4.182374e-08</td>\n",
       "      <td>-0.003910</td>\n",
       "      <td>-0.196539</td>\n",
       "    </tr>\n",
       "    <tr>\n",
       "      <td>V17</td>\n",
       "      <td>-0.073299</td>\n",
       "      <td>1.008944e-06</td>\n",
       "      <td>-5.515644e-09</td>\n",
       "      <td>-4.679377e-07</td>\n",
       "      <td>-1.092159e-06</td>\n",
       "      <td>-8.374530e-08</td>\n",
       "      <td>-1.240354e-06</td>\n",
       "      <td>3.379789e-07</td>\n",
       "      <td>-3.092195e-07</td>\n",
       "      <td>1.384780e-06</td>\n",
       "      <td>...</td>\n",
       "      <td>-8.751407e-07</td>\n",
       "      <td>-2.518462e-06</td>\n",
       "      <td>4.515004e-08</td>\n",
       "      <td>-1.241149e-06</td>\n",
       "      <td>1.538669e-06</td>\n",
       "      <td>-2.507133e-06</td>\n",
       "      <td>4.435900e-08</td>\n",
       "      <td>3.950520e-08</td>\n",
       "      <td>0.007309</td>\n",
       "      <td>-0.326481</td>\n",
       "    </tr>\n",
       "    <tr>\n",
       "      <td>V18</td>\n",
       "      <td>0.090437</td>\n",
       "      <td>5.101237e-07</td>\n",
       "      <td>-2.788717e-09</td>\n",
       "      <td>-2.365900e-07</td>\n",
       "      <td>-5.521970e-07</td>\n",
       "      <td>-4.234174e-08</td>\n",
       "      <td>-6.271249e-07</td>\n",
       "      <td>1.708826e-07</td>\n",
       "      <td>-1.563418e-07</td>\n",
       "      <td>7.001467e-07</td>\n",
       "      <td>...</td>\n",
       "      <td>-4.424724e-07</td>\n",
       "      <td>-1.273338e-06</td>\n",
       "      <td>2.282793e-08</td>\n",
       "      <td>-6.275269e-07</td>\n",
       "      <td>7.779532e-07</td>\n",
       "      <td>-1.267610e-06</td>\n",
       "      <td>2.242797e-08</td>\n",
       "      <td>1.997389e-08</td>\n",
       "      <td>0.035650</td>\n",
       "      <td>-0.111485</td>\n",
       "    </tr>\n",
       "    <tr>\n",
       "      <td>V19</td>\n",
       "      <td>0.028982</td>\n",
       "      <td>-3.429793e-06</td>\n",
       "      <td>1.874981e-08</td>\n",
       "      <td>1.590701e-06</td>\n",
       "      <td>3.712670e-06</td>\n",
       "      <td>2.846827e-07</td>\n",
       "      <td>4.216444e-06</td>\n",
       "      <td>-1.148921e-06</td>\n",
       "      <td>1.051157e-06</td>\n",
       "      <td>-4.707403e-06</td>\n",
       "      <td>...</td>\n",
       "      <td>2.974942e-06</td>\n",
       "      <td>8.561229e-06</td>\n",
       "      <td>-1.534825e-07</td>\n",
       "      <td>4.219147e-06</td>\n",
       "      <td>-5.230531e-06</td>\n",
       "      <td>8.522716e-06</td>\n",
       "      <td>-1.507934e-07</td>\n",
       "      <td>-1.342935e-07</td>\n",
       "      <td>-0.056149</td>\n",
       "      <td>0.034783</td>\n",
       "    </tr>\n",
       "    <tr>\n",
       "      <td>V20</td>\n",
       "      <td>-0.050867</td>\n",
       "      <td>5.511865e-07</td>\n",
       "      <td>-3.013196e-09</td>\n",
       "      <td>-2.556344e-07</td>\n",
       "      <td>-5.966465e-07</td>\n",
       "      <td>-4.575007e-08</td>\n",
       "      <td>-6.776058e-07</td>\n",
       "      <td>1.846380e-07</td>\n",
       "      <td>-1.689267e-07</td>\n",
       "      <td>7.565055e-07</td>\n",
       "      <td>...</td>\n",
       "      <td>-4.780895e-07</td>\n",
       "      <td>-1.375837e-06</td>\n",
       "      <td>2.466548e-08</td>\n",
       "      <td>-6.780401e-07</td>\n",
       "      <td>8.405751e-07</td>\n",
       "      <td>-1.369647e-06</td>\n",
       "      <td>2.423333e-08</td>\n",
       "      <td>2.158170e-08</td>\n",
       "      <td>0.339403</td>\n",
       "      <td>0.020090</td>\n",
       "    </tr>\n",
       "    <tr>\n",
       "      <td>V21</td>\n",
       "      <td>0.044733</td>\n",
       "      <td>1.518022e-06</td>\n",
       "      <td>-8.298643e-09</td>\n",
       "      <td>-7.040426e-07</td>\n",
       "      <td>-1.643224e-06</td>\n",
       "      <td>-1.260002e-07</td>\n",
       "      <td>-1.866194e-06</td>\n",
       "      <td>5.085113e-07</td>\n",
       "      <td>-4.652408e-07</td>\n",
       "      <td>2.083491e-06</td>\n",
       "      <td>...</td>\n",
       "      <td>1.000000e+00</td>\n",
       "      <td>-3.789190e-06</td>\n",
       "      <td>6.793117e-08</td>\n",
       "      <td>-1.867390e-06</td>\n",
       "      <td>2.315027e-06</td>\n",
       "      <td>-3.772144e-06</td>\n",
       "      <td>6.674099e-08</td>\n",
       "      <td>5.943814e-08</td>\n",
       "      <td>0.105998</td>\n",
       "      <td>0.040413</td>\n",
       "    </tr>\n",
       "    <tr>\n",
       "      <td>V22</td>\n",
       "      <td>0.144052</td>\n",
       "      <td>4.368534e-06</td>\n",
       "      <td>-2.388167e-08</td>\n",
       "      <td>-2.026080e-06</td>\n",
       "      <td>-4.728836e-06</td>\n",
       "      <td>-3.626010e-07</td>\n",
       "      <td>-5.370494e-06</td>\n",
       "      <td>1.463384e-06</td>\n",
       "      <td>-1.338861e-06</td>\n",
       "      <td>5.995830e-06</td>\n",
       "      <td>...</td>\n",
       "      <td>-3.789190e-06</td>\n",
       "      <td>1.000000e+00</td>\n",
       "      <td>1.954910e-07</td>\n",
       "      <td>-5.373937e-06</td>\n",
       "      <td>6.662139e-06</td>\n",
       "      <td>-1.085540e-05</td>\n",
       "      <td>1.920659e-07</td>\n",
       "      <td>1.710499e-07</td>\n",
       "      <td>-0.064803</td>\n",
       "      <td>0.000805</td>\n",
       "    </tr>\n",
       "    <tr>\n",
       "      <td>V23</td>\n",
       "      <td>0.051143</td>\n",
       "      <td>-7.831744e-08</td>\n",
       "      <td>4.281418e-10</td>\n",
       "      <td>3.632279e-08</td>\n",
       "      <td>8.477679e-08</td>\n",
       "      <td>6.500573e-09</td>\n",
       "      <td>9.628020e-08</td>\n",
       "      <td>-2.623499e-08</td>\n",
       "      <td>2.400259e-08</td>\n",
       "      <td>-1.074910e-07</td>\n",
       "      <td>...</td>\n",
       "      <td>6.793117e-08</td>\n",
       "      <td>1.954910e-07</td>\n",
       "      <td>1.000000e+00</td>\n",
       "      <td>9.634192e-08</td>\n",
       "      <td>-1.194363e-07</td>\n",
       "      <td>1.946116e-07</td>\n",
       "      <td>-3.443284e-09</td>\n",
       "      <td>-3.066517e-09</td>\n",
       "      <td>-0.112633</td>\n",
       "      <td>-0.002685</td>\n",
       "    </tr>\n",
       "    <tr>\n",
       "      <td>V24</td>\n",
       "      <td>-0.016186</td>\n",
       "      <td>2.152902e-06</td>\n",
       "      <td>-1.176937e-08</td>\n",
       "      <td>-9.984932e-07</td>\n",
       "      <td>-2.330466e-06</td>\n",
       "      <td>-1.786971e-07</td>\n",
       "      <td>-2.646689e-06</td>\n",
       "      <td>7.211851e-07</td>\n",
       "      <td>-6.598177e-07</td>\n",
       "      <td>2.954866e-06</td>\n",
       "      <td>...</td>\n",
       "      <td>-1.867390e-06</td>\n",
       "      <td>-5.373937e-06</td>\n",
       "      <td>9.634192e-08</td>\n",
       "      <td>1.000000e+00</td>\n",
       "      <td>3.283237e-06</td>\n",
       "      <td>-5.349762e-06</td>\n",
       "      <td>9.465396e-08</td>\n",
       "      <td>8.429686e-08</td>\n",
       "      <td>0.005145</td>\n",
       "      <td>-0.007221</td>\n",
       "    </tr>\n",
       "    <tr>\n",
       "      <td>V25</td>\n",
       "      <td>-0.233079</td>\n",
       "      <td>-2.668981e-06</td>\n",
       "      <td>1.459064e-08</td>\n",
       "      <td>1.237845e-06</td>\n",
       "      <td>2.889109e-06</td>\n",
       "      <td>2.215331e-07</td>\n",
       "      <td>3.281134e-06</td>\n",
       "      <td>-8.940625e-07</td>\n",
       "      <td>8.179845e-07</td>\n",
       "      <td>-3.663186e-06</td>\n",
       "      <td>...</td>\n",
       "      <td>2.315027e-06</td>\n",
       "      <td>6.662139e-06</td>\n",
       "      <td>-1.194363e-07</td>\n",
       "      <td>3.283237e-06</td>\n",
       "      <td>1.000000e+00</td>\n",
       "      <td>6.632169e-06</td>\n",
       "      <td>-1.173437e-07</td>\n",
       "      <td>-1.045039e-07</td>\n",
       "      <td>-0.047836</td>\n",
       "      <td>0.003308</td>\n",
       "    </tr>\n",
       "    <tr>\n",
       "      <td>V26</td>\n",
       "      <td>-0.041415</td>\n",
       "      <td>4.348882e-06</td>\n",
       "      <td>-2.377424e-08</td>\n",
       "      <td>-2.016965e-06</td>\n",
       "      <td>-4.707563e-06</td>\n",
       "      <td>-3.609698e-07</td>\n",
       "      <td>-5.346335e-06</td>\n",
       "      <td>1.456800e-06</td>\n",
       "      <td>-1.332838e-06</td>\n",
       "      <td>5.968857e-06</td>\n",
       "      <td>...</td>\n",
       "      <td>-3.772144e-06</td>\n",
       "      <td>-1.085540e-05</td>\n",
       "      <td>1.946116e-07</td>\n",
       "      <td>-5.349762e-06</td>\n",
       "      <td>6.632169e-06</td>\n",
       "      <td>1.000000e+00</td>\n",
       "      <td>1.912019e-07</td>\n",
       "      <td>1.702804e-07</td>\n",
       "      <td>-0.003210</td>\n",
       "      <td>0.004455</td>\n",
       "    </tr>\n",
       "    <tr>\n",
       "      <td>V27</td>\n",
       "      <td>-0.005134</td>\n",
       "      <td>-7.694528e-08</td>\n",
       "      <td>4.206399e-10</td>\n",
       "      <td>3.568640e-08</td>\n",
       "      <td>8.329146e-08</td>\n",
       "      <td>6.386681e-09</td>\n",
       "      <td>9.459333e-08</td>\n",
       "      <td>-2.577534e-08</td>\n",
       "      <td>2.358205e-08</td>\n",
       "      <td>-1.056077e-07</td>\n",
       "      <td>...</td>\n",
       "      <td>6.674099e-08</td>\n",
       "      <td>1.920659e-07</td>\n",
       "      <td>-3.443284e-09</td>\n",
       "      <td>9.465396e-08</td>\n",
       "      <td>-1.173437e-07</td>\n",
       "      <td>1.912019e-07</td>\n",
       "      <td>1.000000e+00</td>\n",
       "      <td>-3.012791e-09</td>\n",
       "      <td>0.028826</td>\n",
       "      <td>0.017580</td>\n",
       "    </tr>\n",
       "    <tr>\n",
       "      <td>V28</td>\n",
       "      <td>-0.009413</td>\n",
       "      <td>-6.852587e-08</td>\n",
       "      <td>3.746133e-10</td>\n",
       "      <td>3.178157e-08</td>\n",
       "      <td>7.417765e-08</td>\n",
       "      <td>5.687845e-09</td>\n",
       "      <td>8.424286e-08</td>\n",
       "      <td>-2.295498e-08</td>\n",
       "      <td>2.100169e-08</td>\n",
       "      <td>-9.405201e-08</td>\n",
       "      <td>...</td>\n",
       "      <td>5.943814e-08</td>\n",
       "      <td>1.710499e-07</td>\n",
       "      <td>-3.066517e-09</td>\n",
       "      <td>8.429686e-08</td>\n",
       "      <td>-1.045039e-07</td>\n",
       "      <td>1.702804e-07</td>\n",
       "      <td>-3.012791e-09</td>\n",
       "      <td>1.000000e+00</td>\n",
       "      <td>0.010258</td>\n",
       "      <td>0.009536</td>\n",
       "    </tr>\n",
       "    <tr>\n",
       "      <td>Amount</td>\n",
       "      <td>-0.010598</td>\n",
       "      <td>-2.277080e-01</td>\n",
       "      <td>-5.314091e-01</td>\n",
       "      <td>-2.108810e-01</td>\n",
       "      <td>9.873086e-02</td>\n",
       "      <td>-3.863564e-01</td>\n",
       "      <td>2.159805e-01</td>\n",
       "      <td>3.973117e-01</td>\n",
       "      <td>-1.030794e-01</td>\n",
       "      <td>-4.424450e-02</td>\n",
       "      <td>...</td>\n",
       "      <td>1.059983e-01</td>\n",
       "      <td>-6.480316e-02</td>\n",
       "      <td>-1.126325e-01</td>\n",
       "      <td>5.145168e-03</td>\n",
       "      <td>-4.783566e-02</td>\n",
       "      <td>-3.210191e-03</td>\n",
       "      <td>2.882551e-02</td>\n",
       "      <td>1.025825e-02</td>\n",
       "      <td>1.000000</td>\n",
       "      <td>0.005632</td>\n",
       "    </tr>\n",
       "  </tbody>\n",
       "</table>\n",
       "<p>30 rows × 31 columns</p>\n",
       "</div>"
      ],
      "text/plain": [
       "            Time            V1            V2            V3            V4  \\\n",
       "Time    1.000000  1.173999e-01 -1.059337e-02 -4.196209e-01 -1.052640e-01   \n",
       "V1      0.117400  1.000000e+00  9.567456e-09  8.116864e-07  1.894463e-06   \n",
       "V2     -0.010593  9.567456e-09  1.000000e+00 -4.437284e-09 -1.035655e-08   \n",
       "V3     -0.419621  8.116864e-07 -4.437284e-09  1.000000e+00 -8.786315e-07   \n",
       "V4     -0.105264  1.894463e-06 -1.035655e-08 -8.786315e-07  1.000000e+00   \n",
       "V5      0.173072  1.452649e-07 -7.941263e-10 -6.737232e-08 -1.572459e-07   \n",
       "V6     -0.063021  2.151523e-06 -1.176183e-08 -9.978536e-07 -2.328973e-06   \n",
       "V7      0.084716 -5.862596e-07  3.204932e-09  2.719009e-07  6.346122e-07   \n",
       "V8     -0.036951  5.363733e-07 -2.932217e-09 -2.487642e-07 -5.806115e-07   \n",
       "V9     -0.008656 -2.402044e-06  1.313137e-08  1.114043e-06  2.600157e-06   \n",
       "V10     0.030613  2.016698e-06 -1.102478e-08 -9.353233e-07 -2.183029e-06   \n",
       "V11    -0.247695  2.380996e-06 -1.301630e-08 -1.104281e-06 -2.577372e-06   \n",
       "V12     0.124348  4.327533e-07 -2.365752e-09 -2.007064e-07 -4.684453e-07   \n",
       "V13    -0.065907  2.525296e-06 -1.380515e-08 -1.171205e-06 -2.733573e-06   \n",
       "V14    -0.098754 -1.910864e-06  1.044621e-08  8.862385e-07  2.068466e-06   \n",
       "V15    -0.183447 -4.315698e-06  2.359282e-08  2.001575e-06  4.671641e-06   \n",
       "V16     0.011901  1.068159e-06 -5.839353e-09 -4.954007e-07 -1.156257e-06   \n",
       "V17    -0.073299  1.008944e-06 -5.515644e-09 -4.679377e-07 -1.092159e-06   \n",
       "V18     0.090437  5.101237e-07 -2.788717e-09 -2.365900e-07 -5.521970e-07   \n",
       "V19     0.028982 -3.429793e-06  1.874981e-08  1.590701e-06  3.712670e-06   \n",
       "V20    -0.050867  5.511865e-07 -3.013196e-09 -2.556344e-07 -5.966465e-07   \n",
       "V21     0.044733  1.518022e-06 -8.298643e-09 -7.040426e-07 -1.643224e-06   \n",
       "V22     0.144052  4.368534e-06 -2.388167e-08 -2.026080e-06 -4.728836e-06   \n",
       "V23     0.051143 -7.831744e-08  4.281418e-10  3.632279e-08  8.477679e-08   \n",
       "V24    -0.016186  2.152902e-06 -1.176937e-08 -9.984932e-07 -2.330466e-06   \n",
       "V25    -0.233079 -2.668981e-06  1.459064e-08  1.237845e-06  2.889109e-06   \n",
       "V26    -0.041415  4.348882e-06 -2.377424e-08 -2.016965e-06 -4.707563e-06   \n",
       "V27    -0.005134 -7.694528e-08  4.206399e-10  3.568640e-08  8.329146e-08   \n",
       "V28    -0.009413 -6.852587e-08  3.746133e-10  3.178157e-08  7.417765e-08   \n",
       "Amount -0.010598 -2.277080e-01 -5.314091e-01 -2.108810e-01  9.873086e-02   \n",
       "\n",
       "                  V5            V6            V7            V8            V9  \\\n",
       "Time    1.730724e-01 -6.302059e-02  8.471567e-02 -3.695050e-02 -8.656166e-03   \n",
       "V1      1.452649e-07  2.151523e-06 -5.862596e-07  5.363733e-07 -2.402044e-06   \n",
       "V2     -7.941263e-10 -1.176183e-08  3.204932e-09 -2.932217e-09  1.313137e-08   \n",
       "V3     -6.737232e-08 -9.978536e-07  2.719009e-07 -2.487642e-07  1.114043e-06   \n",
       "V4     -1.572459e-07 -2.328973e-06  6.346122e-07 -5.806115e-07  2.600157e-06   \n",
       "V5      1.000000e+00 -1.785826e-07  4.866124e-08 -4.452053e-08  1.993766e-07   \n",
       "V6     -1.785826e-07  1.000000e+00  7.207231e-07 -6.593950e-07  2.952974e-06   \n",
       "V7      4.866124e-08  7.207231e-07  1.000000e+00  1.796758e-07 -8.046434e-07   \n",
       "V8     -4.452053e-08 -6.593950e-07  1.796758e-07  1.000000e+00  7.361743e-07   \n",
       "V9      1.993766e-07  2.952974e-06 -8.046434e-07  7.361743e-07  1.000000e+00   \n",
       "V10    -1.673918e-07 -2.479245e-06  6.755591e-07 -6.180742e-07  2.767926e-06   \n",
       "V11    -1.976296e-07 -2.927098e-06  7.975926e-07 -7.297235e-07  3.267926e-06   \n",
       "V12    -3.591977e-08 -5.320089e-07  1.449649e-07 -1.326295e-07  5.939555e-07   \n",
       "V13    -2.096068e-07 -3.104494e-06  8.459305e-07 -7.739482e-07  3.465978e-06   \n",
       "V14     1.586072e-07  2.349137e-06 -6.401065e-07  5.856383e-07 -2.622668e-06   \n",
       "V15     3.582154e-07  5.305539e-06 -1.445684e-06  1.322667e-06 -5.923311e-06   \n",
       "V16    -8.866026e-08 -1.313150e-06  3.578147e-07 -3.273674e-07  1.466052e-06   \n",
       "V17    -8.374530e-08 -1.240354e-06  3.379789e-07 -3.092195e-07  1.384780e-06   \n",
       "V18    -4.234174e-08 -6.271249e-07  1.708826e-07 -1.563418e-07  7.001467e-07   \n",
       "V19     2.846827e-07  4.216444e-06 -1.148921e-06  1.051157e-06 -4.707403e-06   \n",
       "V20    -4.575007e-08 -6.776058e-07  1.846380e-07 -1.689267e-07  7.565055e-07   \n",
       "V21    -1.260002e-07 -1.866194e-06  5.085113e-07 -4.652408e-07  2.083491e-06   \n",
       "V22    -3.626010e-07 -5.370494e-06  1.463384e-06 -1.338861e-06  5.995830e-06   \n",
       "V23     6.500573e-09  9.628020e-08 -2.623499e-08  2.400259e-08 -1.074910e-07   \n",
       "V24    -1.786971e-07 -2.646689e-06  7.211851e-07 -6.598177e-07  2.954866e-06   \n",
       "V25     2.215331e-07  3.281134e-06 -8.940625e-07  8.179845e-07 -3.663186e-06   \n",
       "V26    -3.609698e-07 -5.346335e-06  1.456800e-06 -1.332838e-06  5.968857e-06   \n",
       "V27     6.386681e-09  9.459333e-08 -2.577534e-08  2.358205e-08 -1.056077e-07   \n",
       "V28     5.687845e-09  8.424286e-08 -2.295498e-08  2.100169e-08 -9.405201e-08   \n",
       "Amount -3.863564e-01  2.159805e-01  3.973117e-01 -1.030794e-01 -4.424450e-02   \n",
       "\n",
       "        ...           V21           V22           V23           V24  \\\n",
       "Time    ...  4.473316e-02  1.440524e-01  5.114265e-02 -1.618579e-02   \n",
       "V1      ...  1.518022e-06  4.368534e-06 -7.831744e-08  2.152902e-06   \n",
       "V2      ... -8.298643e-09 -2.388167e-08  4.281418e-10 -1.176937e-08   \n",
       "V3      ... -7.040426e-07 -2.026080e-06  3.632279e-08 -9.984932e-07   \n",
       "V4      ... -1.643224e-06 -4.728836e-06  8.477679e-08 -2.330466e-06   \n",
       "V5      ... -1.260002e-07 -3.626010e-07  6.500573e-09 -1.786971e-07   \n",
       "V6      ... -1.866194e-06 -5.370494e-06  9.628020e-08 -2.646689e-06   \n",
       "V7      ...  5.085113e-07  1.463384e-06 -2.623499e-08  7.211851e-07   \n",
       "V8      ... -4.652408e-07 -1.338861e-06  2.400259e-08 -6.598177e-07   \n",
       "V9      ...  2.083491e-06  5.995830e-06 -1.074910e-07  2.954866e-06   \n",
       "V10     ... -1.749249e-06 -5.033953e-06  9.024682e-08 -2.480834e-06   \n",
       "V11     ... -2.065234e-06 -5.943290e-06  1.065491e-07 -2.928974e-06   \n",
       "V12     ... -3.753626e-07 -1.080211e-06  1.936562e-08 -5.323500e-07   \n",
       "V13     ... -2.190397e-06 -6.303482e-06  1.130064e-07 -3.106484e-06   \n",
       "V14     ...  1.657450e-06  4.769777e-06 -8.551076e-08  2.350643e-06   \n",
       "V15     ...  3.743360e-06  1.077257e-05 -1.931265e-07  5.308940e-06   \n",
       "V16     ... -9.265022e-07 -2.666270e-06  4.779988e-08 -1.313992e-06   \n",
       "V17     ... -8.751407e-07 -2.518462e-06  4.515004e-08 -1.241149e-06   \n",
       "V18     ... -4.424724e-07 -1.273338e-06  2.282793e-08 -6.275269e-07   \n",
       "V19     ...  2.974942e-06  8.561229e-06 -1.534825e-07  4.219147e-06   \n",
       "V20     ... -4.780895e-07 -1.375837e-06  2.466548e-08 -6.780401e-07   \n",
       "V21     ...  1.000000e+00 -3.789190e-06  6.793117e-08 -1.867390e-06   \n",
       "V22     ... -3.789190e-06  1.000000e+00  1.954910e-07 -5.373937e-06   \n",
       "V23     ...  6.793117e-08  1.954910e-07  1.000000e+00  9.634192e-08   \n",
       "V24     ... -1.867390e-06 -5.373937e-06  9.634192e-08  1.000000e+00   \n",
       "V25     ...  2.315027e-06  6.662139e-06 -1.194363e-07  3.283237e-06   \n",
       "V26     ... -3.772144e-06 -1.085540e-05  1.946116e-07 -5.349762e-06   \n",
       "V27     ...  6.674099e-08  1.920659e-07 -3.443284e-09  9.465396e-08   \n",
       "V28     ...  5.943814e-08  1.710499e-07 -3.066517e-09  8.429686e-08   \n",
       "Amount  ...  1.059983e-01 -6.480316e-02 -1.126325e-01  5.145168e-03   \n",
       "\n",
       "                 V25           V26           V27           V28    Amount  \\\n",
       "Time   -2.330791e-01 -4.141524e-02 -5.134468e-03 -9.412592e-03 -0.010598   \n",
       "V1     -2.668981e-06  4.348882e-06 -7.694528e-08 -6.852587e-08 -0.227708   \n",
       "V2      1.459064e-08 -2.377424e-08  4.206399e-10  3.746133e-10 -0.531409   \n",
       "V3      1.237845e-06 -2.016965e-06  3.568640e-08  3.178157e-08 -0.210881   \n",
       "V4      2.889109e-06 -4.707563e-06  8.329146e-08  7.417765e-08  0.098731   \n",
       "V5      2.215331e-07 -3.609698e-07  6.386681e-09  5.687845e-09 -0.386356   \n",
       "V6      3.281134e-06 -5.346335e-06  9.459333e-08  8.424286e-08  0.215980   \n",
       "V7     -8.940625e-07  1.456800e-06 -2.577534e-08 -2.295498e-08  0.397312   \n",
       "V8      8.179845e-07 -1.332838e-06  2.358205e-08  2.100169e-08 -0.103079   \n",
       "V9     -3.663186e-06  5.968857e-06 -1.056077e-07 -9.405201e-08 -0.044245   \n",
       "V10     3.075522e-06 -5.011308e-06  8.866566e-08  7.896380e-08 -0.101503   \n",
       "V11     3.631087e-06 -5.916554e-06  1.046823e-07  9.322787e-08  0.000103   \n",
       "V12     6.599611e-07 -1.075352e-06  1.902632e-08  1.694445e-08 -0.009542   \n",
       "V13     3.851148e-06 -6.275125e-06  1.110265e-07  9.887792e-08  0.005292   \n",
       "V14    -2.914122e-06  4.748320e-06 -8.401257e-08 -7.481986e-08  0.033752   \n",
       "V15    -6.581561e-06  1.072411e-05 -1.897429e-07 -1.689811e-07 -0.002984   \n",
       "V16     1.628972e-06 -2.654275e-06  4.696240e-08  4.182374e-08 -0.003910   \n",
       "V17     1.538669e-06 -2.507133e-06  4.435900e-08  3.950520e-08  0.007309   \n",
       "V18     7.779532e-07 -1.267610e-06  2.242797e-08  1.997389e-08  0.035650   \n",
       "V19    -5.230531e-06  8.522716e-06 -1.507934e-07 -1.342935e-07 -0.056149   \n",
       "V20     8.405751e-07 -1.369647e-06  2.423333e-08  2.158170e-08  0.339403   \n",
       "V21     2.315027e-06 -3.772144e-06  6.674099e-08  5.943814e-08  0.105998   \n",
       "V22     6.662139e-06 -1.085540e-05  1.920659e-07  1.710499e-07 -0.064803   \n",
       "V23    -1.194363e-07  1.946116e-07 -3.443284e-09 -3.066517e-09 -0.112633   \n",
       "V24     3.283237e-06 -5.349762e-06  9.465396e-08  8.429686e-08  0.005145   \n",
       "V25     1.000000e+00  6.632169e-06 -1.173437e-07 -1.045039e-07 -0.047836   \n",
       "V26     6.632169e-06  1.000000e+00  1.912019e-07  1.702804e-07 -0.003210   \n",
       "V27    -1.173437e-07  1.912019e-07  1.000000e+00 -3.012791e-09  0.028826   \n",
       "V28    -1.045039e-07  1.702804e-07 -3.012791e-09  1.000000e+00  0.010258   \n",
       "Amount -4.783566e-02 -3.210191e-03  2.882551e-02  1.025825e-02  1.000000   \n",
       "\n",
       "           Class  \n",
       "Time   -0.012323  \n",
       "V1     -0.101347  \n",
       "V2      0.091289  \n",
       "V3     -0.192961  \n",
       "V4      0.133448  \n",
       "V5     -0.094974  \n",
       "V6     -0.043643  \n",
       "V7     -0.187257  \n",
       "V8      0.019875  \n",
       "V9     -0.097733  \n",
       "V10    -0.216883  \n",
       "V11     0.154876  \n",
       "V12    -0.260593  \n",
       "V13    -0.004570  \n",
       "V14    -0.302544  \n",
       "V15    -0.004223  \n",
       "V16    -0.196539  \n",
       "V17    -0.326481  \n",
       "V18    -0.111485  \n",
       "V19     0.034783  \n",
       "V20     0.020090  \n",
       "V21     0.040413  \n",
       "V22     0.000805  \n",
       "V23    -0.002685  \n",
       "V24    -0.007221  \n",
       "V25     0.003308  \n",
       "V26     0.004455  \n",
       "V27     0.017580  \n",
       "V28     0.009536  \n",
       "Amount  0.005632  \n",
       "\n",
       "[30 rows x 31 columns]"
      ]
     },
     "execution_count": 8,
     "metadata": {},
     "output_type": "execute_result"
    }
   ],
   "source": [
    "# FInding the data correlation\n",
    "traindata_corr = df.corr()[:-1]\n",
    "traindata_corr\n"
   ]
  },
  {
   "cell_type": "markdown",
   "metadata": {
    "colab_type": "text",
    "id": "sxtF72kT9_l_"
   },
   "source": [
    "# What is Correlation ? \n",
    "\n",
    "Correlation is used to check how strongly the variable is depended on the another variable. There are three typer of correlation.\n",
    "\n",
    "1. Negative Correlation - When the varibles change in different directions\n",
    "\n",
    "2. Positive Correlation - when the variables chane in the same direction.\n",
    "\n",
    "3. Neutral Correlation - when there is no relationship between the variables.\n",
    "\n",
    "There are several methods to check the correlation. Pearson's Correlation, Spearman's Correlation, etc.\n",
    "\n",
    "\n"
   ]
  },
  {
   "cell_type": "markdown",
   "metadata": {
    "colab_type": "text",
    "id": "xiLn-POhRwr_"
   },
   "source": [
    "Hence showing the correlation of the data with other data points"
   ]
  },
  {
   "cell_type": "code",
   "execution_count": 9,
   "metadata": {
    "colab": {
     "base_uri": "https://localhost:8080/",
     "height": 226
    },
    "colab_type": "code",
    "id": "CxOapUtQR73U",
    "outputId": "89f0ae44-2113-4df8-b9bd-3f83c3732fd9"
   },
   "outputs": [
    {
     "data": {
      "text/html": [
       "<div>\n",
       "<style scoped>\n",
       "    .dataframe tbody tr th:only-of-type {\n",
       "        vertical-align: middle;\n",
       "    }\n",
       "\n",
       "    .dataframe tbody tr th {\n",
       "        vertical-align: top;\n",
       "    }\n",
       "\n",
       "    .dataframe thead th {\n",
       "        text-align: right;\n",
       "    }\n",
       "</style>\n",
       "<table border=\"1\" class=\"dataframe\">\n",
       "  <thead>\n",
       "    <tr style=\"text-align: right;\">\n",
       "      <th></th>\n",
       "      <th>Time</th>\n",
       "      <th>V1</th>\n",
       "      <th>V2</th>\n",
       "      <th>V3</th>\n",
       "      <th>V4</th>\n",
       "      <th>V5</th>\n",
       "      <th>V6</th>\n",
       "      <th>V7</th>\n",
       "      <th>V8</th>\n",
       "      <th>V9</th>\n",
       "      <th>...</th>\n",
       "      <th>V21</th>\n",
       "      <th>V22</th>\n",
       "      <th>V23</th>\n",
       "      <th>V24</th>\n",
       "      <th>V25</th>\n",
       "      <th>V26</th>\n",
       "      <th>V27</th>\n",
       "      <th>V28</th>\n",
       "      <th>Amount</th>\n",
       "      <th>Class</th>\n",
       "    </tr>\n",
       "  </thead>\n",
       "  <tbody>\n",
       "    <tr>\n",
       "      <td>284802</td>\n",
       "      <td>172786.0</td>\n",
       "      <td>-11.881118</td>\n",
       "      <td>10.071785</td>\n",
       "      <td>-9.834783</td>\n",
       "      <td>-2.066656</td>\n",
       "      <td>-5.364473</td>\n",
       "      <td>-2.606837</td>\n",
       "      <td>-4.918215</td>\n",
       "      <td>7.305334</td>\n",
       "      <td>1.914428</td>\n",
       "      <td>...</td>\n",
       "      <td>0.213454</td>\n",
       "      <td>0.111864</td>\n",
       "      <td>1.014480</td>\n",
       "      <td>-0.509348</td>\n",
       "      <td>1.436807</td>\n",
       "      <td>0.250034</td>\n",
       "      <td>0.943651</td>\n",
       "      <td>0.823731</td>\n",
       "      <td>0.77</td>\n",
       "      <td>0</td>\n",
       "    </tr>\n",
       "    <tr>\n",
       "      <td>284803</td>\n",
       "      <td>172787.0</td>\n",
       "      <td>-0.732789</td>\n",
       "      <td>-0.055080</td>\n",
       "      <td>2.035030</td>\n",
       "      <td>-0.738589</td>\n",
       "      <td>0.868229</td>\n",
       "      <td>1.058415</td>\n",
       "      <td>0.024330</td>\n",
       "      <td>0.294869</td>\n",
       "      <td>0.584800</td>\n",
       "      <td>...</td>\n",
       "      <td>0.214205</td>\n",
       "      <td>0.924384</td>\n",
       "      <td>0.012463</td>\n",
       "      <td>-1.016226</td>\n",
       "      <td>-0.606624</td>\n",
       "      <td>-0.395255</td>\n",
       "      <td>0.068472</td>\n",
       "      <td>-0.053527</td>\n",
       "      <td>24.79</td>\n",
       "      <td>0</td>\n",
       "    </tr>\n",
       "    <tr>\n",
       "      <td>284804</td>\n",
       "      <td>172788.0</td>\n",
       "      <td>1.919565</td>\n",
       "      <td>-0.301254</td>\n",
       "      <td>-3.249640</td>\n",
       "      <td>-0.557828</td>\n",
       "      <td>2.630515</td>\n",
       "      <td>3.031260</td>\n",
       "      <td>-0.296827</td>\n",
       "      <td>0.708417</td>\n",
       "      <td>0.432454</td>\n",
       "      <td>...</td>\n",
       "      <td>0.232045</td>\n",
       "      <td>0.578229</td>\n",
       "      <td>-0.037501</td>\n",
       "      <td>0.640134</td>\n",
       "      <td>0.265745</td>\n",
       "      <td>-0.087371</td>\n",
       "      <td>0.004455</td>\n",
       "      <td>-0.026561</td>\n",
       "      <td>67.88</td>\n",
       "      <td>0</td>\n",
       "    </tr>\n",
       "    <tr>\n",
       "      <td>284805</td>\n",
       "      <td>172788.0</td>\n",
       "      <td>-0.240440</td>\n",
       "      <td>0.530483</td>\n",
       "      <td>0.702510</td>\n",
       "      <td>0.689799</td>\n",
       "      <td>-0.377961</td>\n",
       "      <td>0.623708</td>\n",
       "      <td>-0.686180</td>\n",
       "      <td>0.679145</td>\n",
       "      <td>0.392087</td>\n",
       "      <td>...</td>\n",
       "      <td>0.265245</td>\n",
       "      <td>0.800049</td>\n",
       "      <td>-0.163298</td>\n",
       "      <td>0.123205</td>\n",
       "      <td>-0.569159</td>\n",
       "      <td>0.546668</td>\n",
       "      <td>0.108821</td>\n",
       "      <td>0.104533</td>\n",
       "      <td>10.00</td>\n",
       "      <td>0</td>\n",
       "    </tr>\n",
       "    <tr>\n",
       "      <td>284806</td>\n",
       "      <td>172792.0</td>\n",
       "      <td>-0.533413</td>\n",
       "      <td>-0.189733</td>\n",
       "      <td>0.703337</td>\n",
       "      <td>-0.506271</td>\n",
       "      <td>-0.012546</td>\n",
       "      <td>-0.649617</td>\n",
       "      <td>1.577006</td>\n",
       "      <td>-0.414650</td>\n",
       "      <td>0.486180</td>\n",
       "      <td>...</td>\n",
       "      <td>0.261057</td>\n",
       "      <td>0.643078</td>\n",
       "      <td>0.376777</td>\n",
       "      <td>0.008797</td>\n",
       "      <td>-0.473649</td>\n",
       "      <td>-0.818267</td>\n",
       "      <td>-0.002415</td>\n",
       "      <td>0.013649</td>\n",
       "      <td>217.00</td>\n",
       "      <td>0</td>\n",
       "    </tr>\n",
       "  </tbody>\n",
       "</table>\n",
       "<p>5 rows × 31 columns</p>\n",
       "</div>"
      ],
      "text/plain": [
       "            Time         V1         V2        V3        V4        V5  \\\n",
       "284802  172786.0 -11.881118  10.071785 -9.834783 -2.066656 -5.364473   \n",
       "284803  172787.0  -0.732789  -0.055080  2.035030 -0.738589  0.868229   \n",
       "284804  172788.0   1.919565  -0.301254 -3.249640 -0.557828  2.630515   \n",
       "284805  172788.0  -0.240440   0.530483  0.702510  0.689799 -0.377961   \n",
       "284806  172792.0  -0.533413  -0.189733  0.703337 -0.506271 -0.012546   \n",
       "\n",
       "              V6        V7        V8        V9  ...       V21       V22  \\\n",
       "284802 -2.606837 -4.918215  7.305334  1.914428  ...  0.213454  0.111864   \n",
       "284803  1.058415  0.024330  0.294869  0.584800  ...  0.214205  0.924384   \n",
       "284804  3.031260 -0.296827  0.708417  0.432454  ...  0.232045  0.578229   \n",
       "284805  0.623708 -0.686180  0.679145  0.392087  ...  0.265245  0.800049   \n",
       "284806 -0.649617  1.577006 -0.414650  0.486180  ...  0.261057  0.643078   \n",
       "\n",
       "             V23       V24       V25       V26       V27       V28  Amount  \\\n",
       "284802  1.014480 -0.509348  1.436807  0.250034  0.943651  0.823731    0.77   \n",
       "284803  0.012463 -1.016226 -0.606624 -0.395255  0.068472 -0.053527   24.79   \n",
       "284804 -0.037501  0.640134  0.265745 -0.087371  0.004455 -0.026561   67.88   \n",
       "284805 -0.163298  0.123205 -0.569159  0.546668  0.108821  0.104533   10.00   \n",
       "284806  0.376777  0.008797 -0.473649 -0.818267 -0.002415  0.013649  217.00   \n",
       "\n",
       "        Class  \n",
       "284802      0  \n",
       "284803      0  \n",
       "284804      0  \n",
       "284805      0  \n",
       "284806      0  \n",
       "\n",
       "[5 rows x 31 columns]"
      ]
     },
     "execution_count": 9,
     "metadata": {},
     "output_type": "execute_result"
    }
   ],
   "source": [
    "#Understand the distribution of the data\n",
    "df.tail()\n"
   ]
  },
  {
   "cell_type": "code",
   "execution_count": 10,
   "metadata": {
    "colab": {
     "base_uri": "https://localhost:8080/",
     "height": 573
    },
    "colab_type": "code",
    "id": "B6PzduwHTRSW",
    "outputId": "443d140e-9c09-43d9-a522-392b48d6b520"
   },
   "outputs": [
    {
     "data": {
      "text/plain": [
       "Time      -0.035574\n",
       "V1        -3.280664\n",
       "V2        -4.624857\n",
       "V3        -2.240156\n",
       "V4         0.676287\n",
       "V5        -2.425898\n",
       "V6         1.826578\n",
       "V7         2.553906\n",
       "V8        -8.521934\n",
       "V9         0.554689\n",
       "V10        1.187136\n",
       "V11        0.356500\n",
       "V12       -2.278399\n",
       "V13        0.065227\n",
       "V14       -1.995172\n",
       "V15       -0.308428\n",
       "V16       -1.100970\n",
       "V17       -3.844915\n",
       "V18       -0.259882\n",
       "V19        0.109198\n",
       "V20       -2.037155\n",
       "V21        3.592986\n",
       "V22       -0.213260\n",
       "V23       -5.875130\n",
       "V24       -0.552507\n",
       "V25       -0.415787\n",
       "V26        0.576701\n",
       "V27       -1.170207\n",
       "V28       11.192072\n",
       "Amount    16.977702\n",
       "Class     23.997537\n",
       "dtype: float64"
      ]
     },
     "execution_count": 10,
     "metadata": {},
     "output_type": "execute_result"
    }
   ],
   "source": [
    "df.skew() # It tells the degree of distortion from the normal distribution which is used for further procedings in understanding the ormal distribution fitting\n"
   ]
  },
  {
   "cell_type": "code",
   "execution_count": 11,
   "metadata": {
    "colab": {
     "base_uri": "https://localhost:8080/",
     "height": 573
    },
    "colab_type": "code",
    "id": "20BTZTG0TTfR",
    "outputId": "300a7e7e-6854-4511-9d07-9357adf3d40f"
   },
   "outputs": [
    {
     "data": {
      "text/plain": [
       "Time       -1.293525\n",
       "V1         32.486646\n",
       "V2         95.772759\n",
       "V3         26.619479\n",
       "V4          2.635450\n",
       "V5        206.903830\n",
       "V6         42.642551\n",
       "V7        405.606151\n",
       "V8        220.586288\n",
       "V9          3.731336\n",
       "V10        31.988263\n",
       "V11         1.633927\n",
       "V12        20.241799\n",
       "V13         0.195307\n",
       "V14        23.879457\n",
       "V15         0.284788\n",
       "V16        10.419108\n",
       "V17        94.799511\n",
       "V18         2.578324\n",
       "V19         1.725006\n",
       "V20       271.015252\n",
       "V21       207.286824\n",
       "V22         2.833045\n",
       "V23       440.087103\n",
       "V24         0.618882\n",
       "V25         4.290435\n",
       "V26         0.919029\n",
       "V27       244.988371\n",
       "V28       933.394224\n",
       "Amount    845.090301\n",
       "Class     573.885810\n",
       "dtype: float64"
      ]
     },
     "execution_count": 11,
     "metadata": {},
     "output_type": "execute_result"
    }
   ],
   "source": [
    "df.kurtosis()"
   ]
  },
  {
   "cell_type": "code",
   "execution_count": 12,
   "metadata": {
    "colab": {
     "base_uri": "https://localhost:8080/",
     "height": 295
    },
    "colab_type": "code",
    "id": "nGwTkNWsTfqW",
    "outputId": "e78c0adb-477f-48d1-e892-f07ece77f027"
   },
   "outputs": [],
   "source": [
    "# Understanding the probability distribution with the help of matplotlib with all the features\n",
    "\n",
    "from scipy import stats\n",
    "import matplotlib.pyplot as plt\n",
    "res = stats.probplot(df['Time'], plot=plt)\n"
   ]
  },
  {
   "cell_type": "code",
   "execution_count": 13,
   "metadata": {
    "colab": {
     "base_uri": "https://localhost:8080/",
     "height": 295
    },
    "colab_type": "code",
    "id": "v1fWDnW8UZHJ",
    "outputId": "dc827166-ce37-42f9-e28b-0e92bf0b4c6c"
   },
   "outputs": [
    {
     "data": {
      "image/png": "[encoded data removed]",
      "text/plain": [
       "<Figure size 432x288 with 1 Axes>"
      ]
     },
     "metadata": {
      "needs_background": "light"
     },
     "output_type": "display_data"
    }
   ],
   "source": [
    "res = stats.probplot(df['V1'], plot=plt)"
   ]
  },
  {
   "cell_type": "code",
   "execution_count": 14,
   "metadata": {
    "colab": {
     "base_uri": "https://localhost:8080/",
     "height": 295
    },
    "colab_type": "code",
    "id": "RJnjH6CKUg85",
    "outputId": "ab42bbca-8c30-494f-9115-f23e9d80d2d3"
   },
   "outputs": [
    {
     "data": {
      "image/png": "[encoded data removed]",
      "text/plain": [
       "<Figure size 432x288 with 1 Axes>"
      ]
     },
     "metadata": {
      "needs_background": "light"
     },
     "output_type": "display_data"
    }
   ],
   "source": [
    "res = stats.probplot(df['V2'], plot=plt)"
   ]
  },
  {
   "cell_type": "code",
   "execution_count": 15,
   "metadata": {
    "colab": {
     "base_uri": "https://localhost:8080/",
     "height": 295
    },
    "colab_type": "code",
    "id": "K0GeqbXVUhQt",
    "outputId": "a3e6536e-62b8-47fb-b703-454782d62096"
   },
   "outputs": [
    {
     "data": {
      "image/png": "[encoded data removed]",
      "text/plain": [
       "<Figure size 432x288 with 1 Axes>"
      ]
     },
     "metadata": {
      "needs_background": "light"
     },
     "output_type": "display_data"
    }
   ],
   "source": [
    "res = stats.probplot(df['V3'], plot=plt)"
   ]
  },
  {
   "cell_type": "code",
   "execution_count": 16,
   "metadata": {
    "colab": {
     "base_uri": "https://localhost:8080/",
     "height": 295
    },
    "colab_type": "code",
    "id": "FkEKb044UhOg",
    "outputId": "dda9328c-0ef4-4e9e-9635-95f62554e803"
   },
   "outputs": [
    {
     "data": {
      "image/png": "[encoded data removed]",
      "text/plain": [
       "<Figure size 432x288 with 1 Axes>"
      ]
     },
     "metadata": {
      "needs_background": "light"
     },
     "output_type": "display_data"
    }
   ],
   "source": [
    "res = stats.probplot(df['V4'], plot=plt)"
   ]
  },
  {
   "cell_type": "code",
   "execution_count": 17,
   "metadata": {
    "colab": {
     "base_uri": "https://localhost:8080/",
     "height": 295
    },
    "colab_type": "code",
    "id": "qYrzCv0GUhL5",
    "outputId": "43dfa5ae-b24f-4726-dbf3-2cef85bbab46"
   },
   "outputs": [
    {
     "data": {
      "image/png": "[encoded data removed]",
      "text/plain": [
       "<Figure size 432x288 with 1 Axes>"
      ]
     },
     "metadata": {
      "needs_background": "light"
     },
     "output_type": "display_data"
    }
   ],
   "source": [
    "res = stats.probplot(df['V5'], plot=plt)"
   ]
  },
  {
   "cell_type": "code",
   "execution_count": 18,
   "metadata": {
    "colab": {
     "base_uri": "https://localhost:8080/",
     "height": 295
    },
    "colab_type": "code",
    "id": "CDTxuJjJUhJl",
    "outputId": "f72677d6-ad2f-4af4-f434-c6603c2a1955"
   },
   "outputs": [
    {
     "data": {
      "image/png": "[encoded data removed]",
      "text/plain": [
       "<Figure size 432x288 with 1 Axes>"
      ]
     },
     "metadata": {
      "needs_background": "light"
     },
     "output_type": "display_data"
    }
   ],
   "source": [
    "res = stats.probplot(df['V6'], plot=plt)"
   ]
  },
  {
   "cell_type": "code",
   "execution_count": 19,
   "metadata": {
    "colab": {
     "base_uri": "https://localhost:8080/",
     "height": 295
    },
    "colab_type": "code",
    "id": "NHDPhQDJUhHx",
    "outputId": "58e8772d-2a22-4166-9112-6fa68e486111"
   },
   "outputs": [
    {
     "data": {
      "image/png": "[encoded data removed]",
      "text/plain": [
       "<Figure size 432x288 with 1 Axes>"
      ]
     },
     "metadata": {
      "needs_background": "light"
     },
     "output_type": "display_data"
    }
   ],
   "source": [
    "res = stats.probplot(df['V7'], plot=plt)"
   ]
  },
  {
   "cell_type": "code",
   "execution_count": 20,
   "metadata": {
    "colab": {
     "base_uri": "https://localhost:8080/",
     "height": 295
    },
    "colab_type": "code",
    "id": "tL_ZwM0tUhFV",
    "outputId": "173c1a6d-4819-4e5e-ac49-17cbaeeb7cae"
   },
   "outputs": [
    {
     "data": {
      "image/png": "[encoded data removed]",
      "text/plain": [
       "<Figure size 432x288 with 1 Axes>"
      ]
     },
     "metadata": {
      "needs_background": "light"
     },
     "output_type": "display_data"
    }
   ],
   "source": [
    "res = stats.probplot(df['V8'], plot=plt)"
   ]
  },
  {
   "cell_type": "code",
   "execution_count": 21,
   "metadata": {
    "colab": {
     "base_uri": "https://localhost:8080/",
     "height": 295
    },
    "colab_type": "code",
    "id": "yJkq0rdpUhCF",
    "outputId": "04aad4fa-f69e-46c1-8335-1ba58f594c87"
   },
   "outputs": [
    {
     "data": {
      "image/png": "[encoded data removed]",
      "text/plain": [
       "<Figure size 432x288 with 1 Axes>"
      ]
     },
     "metadata": {
      "needs_background": "light"
     },
     "output_type": "display_data"
    }
   ],
   "source": [
    "res = stats.probplot(df['V8'], plot=plt)"
   ]
  },
  {
   "cell_type": "code",
   "execution_count": 22,
   "metadata": {
    "colab": {
     "base_uri": "https://localhost:8080/",
     "height": 295
    },
    "colab_type": "code",
    "id": "WcfJk4MDUg4W",
    "outputId": "e460c949-0e3c-4a43-8ee5-76c8625d9f04"
   },
   "outputs": [
    {
     "data": {
      "image/png": "[encoded data removed]",
      "text/plain": [
       "<Figure size 432x288 with 1 Axes>"
      ]
     },
     "metadata": {
      "needs_background": "light"
     },
     "output_type": "display_data"
    }
   ],
   "source": [
    "res = stats.probplot(df['V9'], plot=plt)"
   ]
  },
  {
   "cell_type": "code",
   "execution_count": null,
   "metadata": {
    "colab": {},
    "colab_type": "code",
    "id": "Nkc_RmRwVjW0"
   },
   "outputs": [],
   "source": [
    "# Plotting the Bar chart for showing the comparision between all the features\n",
    "import matplotlib.pyplot as plt\n",
    "df.plot(kind='bar')\n",
    "plt.show()"
   ]
  },
  {
   "cell_type": "code",
   "execution_count": null,
   "metadata": {
    "colab": {
     "base_uri": "https://localhost:8080/",
     "height": 52
    },
    "colab_type": "code",
    "id": "uGTGoShjYqUy",
    "outputId": "76f78fc5-562a-48f2-8eff-a31d10bc0e6a"
   },
   "outputs": [
    {
     "name": "stdout",
     "output_type": "stream",
     "text": [
      "(27725, 31)\n",
      "(93, 31)\n"
     ]
    }
   ],
   "source": [
    "# To check the number of anamoly(1) and normal(0) in the class variable\n",
    "# Normal variable are all the values of class with value 0. It is the normal data point. On the other hand class with value one it shows the outliers in the class feature.\n",
    "\n",
    "df['Amount'] = np.log(df['Amount'] + 1)\n",
    "df['Time'] = np.log(df['Time'] + 1)\n",
    "normal = df[df['Class'] == 0]\n",
    "anomaly = df[df['Class'] == 1]\n",
    "\n",
    "# Understanding the shape of the normal and anamoly data\n",
    "\n",
    "print(normal.shape)\n",
    "print(anomaly.shape)"
   ]
  },
  {
   "cell_type": "code",
   "execution_count": null,
   "metadata": {
    "colab": {},
    "colab_type": "code",
    "id": "-NTvxzcjqICj"
   },
   "outputs": [],
   "source": [
    "# Making a class for defining the model fitting  and making the function for prediction model\n",
    "\n",
    "class hist_model(object):\n",
    "    \n",
    "    def __init__(self, bins=50):\n",
    "        self.bins = bins\n",
    "        \n",
    "    def fit(self, X):\n",
    "        \n",
    "        bin_hight, bin_edge = [], []\n",
    "        \n",
    "        for var in X.T:\n",
    "            # get bins hight and interval\n",
    "            bh, bedge = np.histogram(var, bins=self.bins)\n",
    "            bin_hight.append(bh)\n",
    "            bin_edge.append(bedge)\n",
    "        \n",
    "        self.bin_hight = np.array(bin_hight)\n",
    "        self.bin_edge = np.array(bin_edge)\n",
    "   \n",
    "\n",
    "    def predict(self, X):\n",
    "        \n",
    "        scores = []\n",
    "        for obs in X:\n",
    "            obs_score = []\n",
    "            for i, var in enumerate(obs):\n",
    "                # find wich bin obs is in\n",
    "                bin_num = (var > self.bin_edge[i]).argmin()-1\n",
    "                obs_score.append(self.bin_hight[i, bin_num]) # find bin hitght\n",
    "            \n",
    "            scores.append(np.mean(obs_score))\n",
    "        \n",
    "        return np.array(scores)\n",
    "                \n",
    "#fitting the model\n",
    "        \n",
    "model = hist_model()\n",
    "model.fit(df.drop('Class', axis=1).values)\n"
   ]
  },
  {
   "cell_type": "code",
   "execution_count": null,
   "metadata": {
    "colab": {},
    "colab_type": "code",
    "id": "mMlATsnrZ0zD"
   },
   "outputs": [],
   "source": [
    "from scipy.stats import multivariate_normal\n",
    "\n",
    "\n",
    "mu = df.drop('Class', axis=1).mean(axis=0).values\n",
    "sigma = df.drop('Class', axis=1).cov().values\n",
    "model = multivariate_normal(cov=sigma, mean=mu, allow_singular=True)"
   ]
  },
  {
   "cell_type": "code",
   "execution_count": null,
   "metadata": {
    "colab": {
     "base_uri": "https://localhost:8080/",
     "height": 52
    },
    "colab_type": "code",
    "id": "2e9-55XroRA3",
    "outputId": "0dbc76dd-ec1f-4077-f015-9519af401ae3"
   },
   "outputs": [
    {
     "name": "stdout",
     "output_type": "stream",
     "text": [
      "3.6145221342636265\n",
      "-110.75461281593208\n"
     ]
    }
   ],
   "source": [
    "# Applying Gaussian Mixture Algorithm for model fitting\n",
    "from sklearn.mixture import GaussianMixture\n",
    "\n",
    "gmm = GaussianMixture(n_components=3, n_init=4, random_state=42)\n",
    "gmm.fit(df.drop('Class', axis=1).values)\n",
    "print(gmm.score(df[df['Class'] == 0].drop('Class', axis=1).values))\n",
    "print(gmm.score(df[df['Class'] == 1].drop('Class', axis=1).values))"
   ]
  },
  {
   "cell_type": "markdown",
   "metadata": {
    "colab_type": "text",
    "id": "IPe_vuo96TDb"
   },
   "source": [
    "# **Data Visualization**\n",
    "\n",
    "Data visualization is a compatible way of understandin the behaviour of the feature so that we can fit the model accurately"
   ]
  },
  {
   "cell_type": "code",
   "execution_count": null,
   "metadata": {
    "colab": {
     "base_uri": "https://localhost:8080/",
     "height": 279
    },
    "colab_type": "code",
    "id": "_sX6iCTGslKf",
    "outputId": "13f07e09-1441-44b0-c3a0-5f2e29cf397e"
   },
   "outputs": [
    {
     "data": {
      "image/png": "[encoded data removed]",
      "text/plain": [
       "<Figure size 432x288 with 1 Axes>"
      ]
     },
     "metadata": {
      "tags": []
     },
     "output_type": "display_data"
    }
   ],
   "source": [
    "# We need to check at what time the fraud is occuring with the class and how much amount\n",
    "import matplotlib.pyplot as plt\n",
    "\n",
    "\n",
    "plt.plot(df['Time'], label='$Recall$')\n",
    "plt.plot(df['Amount'], label='$Precision$')\n",
    "plt.plot(df['Class'], label='$F_2$')\n",
    "plt.ylabel('Score')\n",
    "# plt.xticks(np.logspace(-10, -200, 3))\n",
    "plt.xlabel('Threshold')\n",
    "plt.legend(loc='best')\n",
    "plt.show()\n"
   ]
  },
  {
   "cell_type": "code",
   "execution_count": null,
   "metadata": {
    "colab": {
     "base_uri": "https://localhost:8080/",
     "height": 295
    },
    "colab_type": "code",
    "id": "qrLs42XiwwXA",
    "outputId": "15e8e307-8a16-4a77-fa7e-3e587a1827a2"
   },
   "outputs": [
    {
     "data": {
      "image/png": "[encoded data removed]",
      "text/plain": [
       "<Figure size 432x288 with 1 Axes>"
      ]
     },
     "metadata": {
      "tags": []
     },
     "output_type": "display_data"
    }
   ],
   "source": [
    "# Checking the Transaction distribution with the Class [0 = Normal, 1 = Fraud]\n",
    "count_classes = pd.value_counts(db['Class'], sort = True)\n",
    "count_classes.plot(kind = 'bar', rot=0)\n",
    "plt.title(\"Transaction Class Distribution\")\n",
    "plt.xticks(range(2) )\n",
    "plt.xlabel(\"Class\")\n",
    "plt.ylabel(\"Frequency\");"
   ]
  },
  {
   "cell_type": "code",
   "execution_count": null,
   "metadata": {
    "colab": {},
    "colab_type": "code",
    "id": "Il-sK8HJygjv"
   },
   "outputs": [],
   "source": [
    "# Making two variables Fraud and the normal data. Fraud has a value of one in the class feature and normal has a value of 0 in the class feature\n",
    "\n",
    "Fraud = db[db['Class']==1]\n",
    "\n",
    "Normal = db[db['Class']==0]"
   ]
  },
  {
   "cell_type": "code",
   "execution_count": null,
   "metadata": {
    "colab": {
     "base_uri": "https://localhost:8080/",
     "height": 34
    },
    "colab_type": "code",
    "id": "suOpLskyyshg",
    "outputId": "929b38fe-e739-4f3d-e4a2-82ec1add7e02"
   },
   "outputs": [
    {
     "data": {
      "text/plain": [
       "(93, 31)"
      ]
     },
     "execution_count": 79,
     "metadata": {
      "tags": []
     },
     "output_type": "execute_result"
    }
   ],
   "source": [
    "# Checking the fraud shape\n",
    "Fraud.shape"
   ]
  },
  {
   "cell_type": "code",
   "execution_count": null,
   "metadata": {
    "colab": {
     "base_uri": "https://localhost:8080/",
     "height": 34
    },
    "colab_type": "code",
    "id": "GPSrBGiRyyoM",
    "outputId": "7a595af0-07a0-41bf-8c2c-74109aa540b2"
   },
   "outputs": [
    {
     "data": {
      "text/plain": [
       "(27725, 31)"
      ]
     },
     "execution_count": 81,
     "metadata": {
      "tags": []
     },
     "output_type": "execute_result"
    }
   ],
   "source": [
    "# Checking the Normal shape\n",
    "Normal.shape"
   ]
  },
  {
   "cell_type": "code",
   "execution_count": null,
   "metadata": {
    "colab": {
     "base_uri": "https://localhost:8080/",
     "height": 308
    },
    "colab_type": "code",
    "id": "EEtN1whiy1sb",
    "outputId": "fac0363a-49d1-4497-f50f-f95fa2313d6b"
   },
   "outputs": [
    {
     "data": {
      "image/png": "[encoded data removed]",
      "text/plain": [
       "<Figure size 432x288 with 2 Axes>"
      ]
     },
     "metadata": {
      "tags": []
     },
     "output_type": "display_data"
    }
   ],
   "source": [
    "# PLotting the graph separately for the amount of transaction of the clasws on the basis of Fraud and normal Detection\n",
    "\n",
    "f, (ax1, ax2) = plt.subplots(2, 1, sharex=True)\n",
    "f.suptitle('Amount per transaction by class')\n",
    "bins = 50\n",
    "ax1.hist(Fraud.Amount, bins = bins)\n",
    "ax1.set_title('Fraud')\n",
    "ax2.hist(Normal.Amount, bins = bins)\n",
    "ax2.set_title('Normal')\n",
    "plt.xlabel('Amount ($)')\n",
    "plt.ylabel('Number of Transactions')\n",
    "plt.xlim((0, 20000))\n",
    "plt.yscale('log')\n",
    "plt.show();"
   ]
  },
  {
   "cell_type": "code",
   "execution_count": null,
   "metadata": {
    "colab": {
     "base_uri": "https://localhost:8080/",
     "height": 308
    },
    "colab_type": "code",
    "id": "2re0G-sNzDUW",
    "outputId": "20f0c5e6-d03f-44e0-acdf-93ea7f3a5f88"
   },
   "outputs": [
    {
     "data": {
      "image/png": "[encoded data removed]",
      "text/plain": [
       "<Figure size 432x288 with 2 Axes>"
      ]
     },
     "metadata": {
      "tags": []
     },
     "output_type": "display_data"
    }
   ],
   "source": [
    "# Plotting the scatter plot for the fraud and Normal detection with the help of time transaction and amount feature for detecting the credit card frauds.\n",
    "\n",
    "f, (ax1, ax2) = plt.subplots(2, 1, sharex=True)\n",
    "f.suptitle('Time of transaction vs Amount by class')\n",
    "ax1.scatter(Fraud.Time, Fraud.Amount)\n",
    "ax1.set_title('Fraud')\n",
    "ax2.scatter(Normal.Time, Normal.Amount)\n",
    "ax2.set_title('Normal')\n",
    "plt.xlabel('Time (in Seconds)')\n",
    "plt.ylabel('Amount')\n",
    "plt.show()\n",
    "\n"
   ]
  },
  {
   "cell_type": "code",
   "execution_count": null,
   "metadata": {
    "colab": {
     "base_uri": "https://localhost:8080/",
     "height": 1000
    },
    "colab_type": "code",
    "id": "hg9S15lOzMv2",
    "outputId": "41368e64-25e8-45f9-bcf5-9e924e647149"
   },
   "outputs": [
    {
     "data": {
      "image/png": "[encoded data removed]",
      "text/plain": [
       "<Figure size 1440x1440 with 36 Axes>"
      ]
     },
     "metadata": {
      "tags": []
     },
     "output_type": "display_data"
    }
   ],
   "source": [
    "# Plotting the individual Data to understand it more clearly\n",
    "import matplotlib.pyplot as plt\n",
    "data1= db.sample(frac = 0.1,random_state=1)\n",
    "\n",
    "data1.shape\n",
    "data1.hist(figsize=(20,20))\n",
    "plt.show()"
   ]
  },
  {
   "cell_type": "code",
   "execution_count": null,
   "metadata": {
    "colab": {
     "base_uri": "https://localhost:8080/",
     "height": 566
    },
    "colab_type": "code",
    "id": "_2qYUZJqzv4m",
    "outputId": "f7751bb9-af0e-4aa8-c3df-21fad3b8212f"
   },
   "outputs": [
    {
     "data": {
      "image/png": "[encoded data removed]",
      "text/plain": [
       "<Figure size 864x648 with 2 Axes>"
      ]
     },
     "metadata": {
      "tags": []
     },
     "output_type": "display_data"
    }
   ],
   "source": [
    "# FInding the Correlation between the data points\n",
    "import seaborn as sns\n",
    "\n",
    "correlation_matrix = data1.corr()\n",
    "fig = plt.figure(figsize=(12,9))\n",
    "sns.heatmap(correlation_matrix,vmax=0.8,square = True)\n",
    "plt.show()\n",
    "\n"
   ]
  },
  {
   "cell_type": "code",
   "execution_count": null,
   "metadata": {
    "colab": {
     "base_uri": "https://localhost:8080/",
     "height": 34
    },
    "colab_type": "code",
    "id": "uQ5NSy_y0jF_",
    "outputId": "a739d62f-f920-4ab6-eda9-92cf2048b68b"
   },
   "outputs": [
    {
     "name": "stdout",
     "output_type": "stream",
     "text": [
      "0.004332129963898917\n"
     ]
    }
   ],
   "source": [
    "# Finding the outlier fraction by divind the fraud and valid variable count\n",
    "Fraud = data1[data1['Class']==1]\n",
    "Valid = data1[data1['Class']==0]\n",
    "outlier_fraction = len(Fraud)/float(len(Valid))\n",
    "print(outlier_fraction)"
   ]
  },
  {
   "cell_type": "code",
   "execution_count": null,
   "metadata": {
    "colab": {},
    "colab_type": "code",
    "id": "ubD8wmJJ1AA7"
   },
   "outputs": [],
   "source": [
    "# Importing the libraries from  sklearn package\n",
    "from sklearn.metrics import classification_report,accuracy_score\n",
    "from sklearn.ensemble import IsolationForest\n",
    "from sklearn.neighbors import LocalOutlierFactor"
   ]
  },
  {
   "cell_type": "markdown",
   "metadata": {
    "colab_type": "text",
    "id": "Bx0vOWoK569e"
   },
   "source": [
    "# **Model Fitting**"
   ]
  },
  {
   "cell_type": "markdown",
   "metadata": {
    "colab_type": "text",
    "id": "_bPhGYpaNbvt"
   },
   "source": [
    "# **Why it is important to fit the model ?**\n",
    "\n",
    " If your model is not fitting the data accurately, the outcome it will produce would be inefficient for taking the decision in the practical use.\n",
    "\n",
    "There are three ways the model can get fit. It is shown by the simple figure.\n",
    "\n",
    "![alt text](data:image/jpeg;base64,/9j/4AAQSkZJRgABAQAAAQABAAD/2wCEAAkGBxMSEBUQEhIVFRUVEhgVFRUVFxgZFxgWGBUXGBUYFRgYHyggGBslHRgaITEiJSkrLi8uGCAzODMsNygtLisBCgoKDg0OGxAQGzAlICYtLS01Ky8vLS0uKzYrLy8tNy8rLS0tLS01LSstLS0tLS0rLS01LS0tLy0tLS8tLy0tLf/AABEIAJsBRQMBIgACEQEDEQH/xAAbAAEAAwEBAQEAAAAAAAAAAAAABAUGAwECB//EAD4QAAICAQMCBAQDBQcDBAMAAAECAxEABBIhEzEFBiJBFDJRYSNCcVJUgZGjM2JzkqGy0hU0QyRTY3LB4fD/xAAYAQEBAQEBAAAAAAAAAAAAAAAAAQIDBP/EAC4RAAIBAgUCBAcAAwEAAAAAAAABAgMREiExUfBBYQQToeEycYGRscHxFELRIv/aAAwDAQACEQMRAD8A/cMYzlqYtyMtkbgRY7i+9fTAOWs8Qjij6rtSWPWASoDdmYjsv948D3yTeZzTa+HTQwwzWscsRId6MQ9IJjY+1iyAfYV9s5eWvEioSNg4gk3fCPKKbau4iJ+f2RuQnkoOeVJNik8lqjbpzUcTWR013mYxStpjAxnLAadAfTMhHz76pAtHdfavexejX75QavyvHIzytI/WZw8c1jfFt+VY/YKLNj33G8vwM5xxZ3OlZ0sMcGvX27c2PnrLu2bl3Ve2xdfp3zplCiDYkXTbrB1JbYfmDAvJvqiCL9+brLb4yPf0967u22+b71+v2zq0eZM91GrSOt7AX2Hvx3ND2H1zqjggEEEEWCOxHsRkKbckxkCM4ZFX01alSx9yODu/0zr4bEUjAYUSzNQ/LudmC/wuv4ZGsi3zJWMjDXxl+nvG66r7+4vtf275JyFuMYxgDPFa+RnPUx7kZQStgix3F/T75R+HeIx6aPTwyMVEkdo7fICFDdMt7GrIB9l+2RuxqMXJ2SNAcz2u8z9KR4DC5n3AQRj/AM4PZlbsoBvdfy19xlr4X4iuoiEyBghJ2lhW4A0GH909wfplL4x4BHU2rlndZFuRJuPwEQbtqL2K991/NfPtmZXfwnajGnGTVbj5r6ZljI5m1AjFhIKeSjw0pAMafcKDvP32ffLMOLqxf0vnIPgemZIgZP7SQmWT7O/JX7hRSj7KMglV27Nh+I33u2m927591fJX37cfbOzV8tjzN2L/ADjqdUkdF2Vb7Wav9MfEpu6e9d37Ni/5ZF1FpN1NjMDGFG0WVIJJ4+hsc/3cykGycjggEEEEWCOxH2z6yJ4bEVjojbbMwX9kMxIXjjgH2zoNZHv6e9d3bbfN/T9ftgHfGMZCjGM8OAAcHM9pdQmjQtIzlH1LIznkIxZhvc/lVjQPsCfbLPw3xWOcydOysb7N9ehmHzbD+ajwT9cl1exvBLDitluQfF/MaaaXZMjBWS4nHq6j3RiUDkP2oe9muxyY3iOzTCeZDGdgJjsMwZqAjFfM5JCgDuTkTxXy7HqZC8zMwCbYkB2iJveVCP8AydqPtXHc586GFpJlR3Mi6QBS5FGTUFOWIHHpRh9t0h91xBNt30OlTyvLjh+Lr7fvvpkTfCYWRLmYdaU7354DEfIn91RSiu9E9ycsco9SsdyiRC0jMdnpJJFejptXFH7ijZ++Wa6lUCrI6hyosEgWexr+Oba6nmTOs86oNzsFH1JrPYZVcblIYHsQbGRNaCJEk2llUMCF5ILVTAe9URxz6s+vD1NyOVKh3sKe/wAqgkgdiSLrJbK5b5kzGR5dbGrBGdQx7Annnt+mSMhRjGMADPc8Ge4B5g4wcAzWp8C+LhgSVz0BCpaJeC77RtJb6L3oe9Z9eJeEFvDpNPqWMxVGp0S5PSSYmCj5nFC64PPscsPDddGqQQlwJHgDKp7kKq7iP0sZL0etjmUvE4dQzLa9tymmF+9EZmNlK61O3mVMCi/hWfPn+uxj/IzTGZhq1czRoY1JO5YlG0tEzDjeQyNuPLqR+yc2GtnKqNoBZmCqD2sn3+w7/wAMofMayQzLqYd3KEahEALSRRkEGMUblXexAr1KGHfaRY6CRdREfX1E3KUlUgFgVV0YEcWL9vpnVwSWJaHOrVdSVyTppnD9OTaTt3KyggEAgEEEmiLHvzeQek3S+H6bbt/z8bfn3dW/r713v+ed54DGNwdi7sse969IJ9gAAP5cki7zrpyyymMuXBTeC1bl5qjtABBvjj2OPkchqSzSiNXKAJvJUDceaAG4EUPfj3Gffh8xZPUQSrshI99rFb+3b+eQ9RMJArvEenupZAxDjcaDUtEITXv9LGfSRsd4STpLEdqqoWuEVrex29XYVxi2QvmfCQv000/TPpZbktdtKwbeOb3Gu1dzlwM46SXfGjkVuRWr6WAa/wBc7Zls0kMYxkKeHM1q/AjrINPFI9acQq0iLw7uFGz1eyjvxySB7Zpjlb4Xq0EcERcB2gDKt+oqqqGIHvVj+eSSTVmbpzlCWKGqOMWmMejaPVN1QqMrFFNvGLC+leS+2r2+/bMto9PO00MOrEhMjL0bNhdOh6jpMRwZjsRWJ7huPzZutLqklBMbq4DFCVNgMpphx7g5UeJbm1+njVgv/p9QxPBPD6cekHj397zVON5Ltc06zSkmteZfsttZOUWwLJIVR2ssQBZ9hznOCZ9/TkC2VLKVuiAQGBB7Ebh+t5zjQyB4nJOxwA44PZXU8cBgT/pnxPE0Y37y7sVjVnApQzAcBQB9/vQypLQ8/cjmM7DDsbqGQtvr08ybhJv7cD278V2ybqndpBGr7Bs3EgAk80ANwI/Xj6YgZ1kEbPvDIWBIAI2kAg7QAQd3HHscjaiZZNrtG4TdtWVW2n1GgfSQwRjX+hqucupCboJWZSGIJVyhI7Gvevb9PreQEjbppB02DKy2/G30sGMgN8k0eO9nnOscbW6RuI1jIUAAGyVDEvfJB3e1Hubybopt8aPVblDV+ovJe2ZVmd8YxmTYwcYwCg13hr6mFoA4SN9RIJuLZotzbkQ/lJNAn6XXOSfAPC20yNDvDRK34II9SxkfIx/NRuj3rvnTTayOPh3Cl9RIiWa3NuYhR96B/lkuLVo7vGrgtHW9QeVsWN304zNle518yfl4P9dff9GGSZoWWaRJjo1djpIud3VNCISj5grEkRhuBuF/lrW+Hw/DaX1+pgGkkI/NI5LyEX9WY19qyH44zNqdPEKpSZSTyA9rHFY/NW5yP7yrk5VJZoJG6itHfIANXtYNtoVzwf1zoo4Y23zM1q3mPQ+k1EiuqyBKckDaTwwUttN9+Aeft2zhL6TKGiZ+obFLYYbANpPZaIPehzefWohMStMztIYkYoGoAenuaAs1xZ9rz7DPG8YZ94kJU+kDawRnta/L6SKN9xzlOIkLqsUQamalL962oSSAe5Ne/wBz7Z10Ujbnjdt20KQ1AEhr4IHFjae31GcNdOGDDpM6IfUymiCBZKUQxIB9v0FmxnxFH6+nE5QbFkL/ADu5YkD1Pd8L/qO2ToL5iVWUSp0i5kYlSK2sGAADn8tdufYcZZQIQqqTZCgE/UgcnOOgmLpbVYZlJHYlWK2PpddslZG+hUhjGMhoDPc8Ge4B5hsYOAZHxfwaTWQaaBajQRh2n/8AIjBAFWIexNmz9AR75deX43j0yJLGkRjBSkPo2qaDL+yCBdHtee+E6uPpxxb13rp43Zb5CEUGI+lg/wAsa7Uwy6R5COtC0bWEG/evIIUD5j7ZiyTuejzJygqbWV/z/wBJmphRwFYXzY5ogj3UjkHnuPrmZl1CeGzcf9rKd0qgE/DSE/2p+kTm91/K3q7FiIvlPRzR6hfi0kZjCfhmY7xFFY3RORwJa22x+aqvg5pJA6NIBF1BIbBtQPkVSr7j249r4OdaNS6z02OfiKSpTsnfuStXJHtAkK7XIUBiKYnsB9Sc+NKsSsyIRvoFxu3PRvaWsk1wav75ifG0Okg+BYpNDIFSPqOA2mkJAUuxO7pWbUjlaAuqq+8o+HyafqxTLufeHOp79cHsTZsMoG2uwFV3yTTi7dH15z0LGnB0nO+a6c56lmvh7UI+oDECCF2+ugbVS11tFD2uhX3znqX0zSSK5XfEgaUEkUhBKlxwGXv3sd8nHVoH6Zdd5/LuG7+XfMr5r8Cl1U+/8NFiQdMsf7diQxjko8RcVXNnn25zOUloKFOnOVpuy35zqaEa/eE6G1hInUDMSFCcUe1kmxQ498kaOcuDuFMrbWANi6B4PuCCD/HOCQM6RycwyBBYG1ttgFkPsQCO4+mSNLp9gqyxJtmPck+/HH2/hmsrHF3xHfAxjIUNmQ8X8Kl1UGlgjHTAjWQ6m/VEQgAWMAg7muj7bQfes15yu8I1KdKOPcu8QRsVsbgpWgSPpYP8szJJqzOlKpKnPHHVHPy3E0emSN4lhMYKFVI2Haa3r9m788885G8wxL1tLK3YTGItZUhZUIFEGx+IsY/jk3X6iGTTSOxEkJjbdstty8hgNvJPccZj/B/DJJmMGvEvr0zLpSTeyM995XtqANh3H6Cjd5YTwSSOvlebGdRu1um/y+XXZGz68MHoLBb9XJJPP5mJ5/ic76ooV2vW1vTRPcnsB98o/Ade7wCVoi7yKA+3bxKiiOWNrIqnVvtyc88fgHwY03TEsrKiIgbaQ/5ZN3dVUi9w54zc4uN9zz0kpSUXoXOmhjRiqm3oFrYs23nbe4kgd/t3zgmgfasW9ekpFDad+1SCqE3VcAXXIH8cq/KGhkhaZNQpeYsGbUnkTKQdlfs7QK2+3f3zRGdQwQsNx5C2LP6DvmIybVzVanGE3FO633IGoWB5HVmG9FBkAcr6DZXqAEWvfv8AfPv44MqdAK4dN6tupNnFGwD3sUAMz3mvwObVTWiIqxR/MxP/AKiyGMD7TxF6ebvk9qu9BHAzpHIB0HEYBQgMFBAJRgDRojuDiMm3Z6G6tKEaalF5vVbf3001JOj1G8G12srFWW7oj6H3BBBH2PtkjOGk0+wVZYk7mY+5PvQ7dgP0GfHiPiMUCdSZ1RbAsnuSaAUd2JPAA5Oatd2RwWmZKwcr/CfETOGfoyRJY2GUBWcV82y9yD7MAftk84aadmUzXjejefTPBHGGMuodS7HiIby3V+pZSBVe9dhkjynoJNPG8Eij0yEiYHmYNzvcE2H9jf04+03RahAShYBmll2qSLba3qoe9WMlRahH3BWDbG2tRBpqBINdjRHH3zFle5382XleXbLXnPUrvGPDXkdZYpEUhCjLIhdHUlWX5WVlZWWwQfc8diMrJJqVdyJ5mVXMbtp+jHvZfmRPieo8mzsTvUXu++e+EwuNRCXSYaHrMdKhv0ycbDKK3CO92wHtfPtVz5f3R71MZZopZYn2USGeQzq/NfOkqsfof553oVW4vLQx4mgqTVne/PvuRtKYpVK/G6uCQJuImaO9nuwEitHInPJWx9xnQrLoWEryJqIgp3AgrPHEKLunqKOq8Eqqqa5s0AfPNWnRdAzyxqzJJ11j9JbaJd8saX3JjLqQO+4jM/4XMNOG6pTUST6YppDHKJSoPA0q+/cg7/cKSa25tyk2rK6eXGKdKMoObdmum/8AOprPFJ5Ufoaba7zAyBTwI1NBpGfkKpPb0sbJoEA1y1KT7kjJ0pkEZMcStNG5RaDASg2R2/J9M5eDa+GBH1GolROpINPGWNFk09xKqDu1uJHAH/uZD83aiPV9OKNzGAS51OyQPGQKCxgAG2vn2q8zPHFf+Y3+mpKNOE52m7LfYvvDfGI5IR0F9QkMPSJHokSyyuVsUACbF2Kq7yw0mpZmZHUK6gGgdylWuiCQPdSKr2zJeV4y7gJC0ISFVLBGEQliZkRo94HUEiO1/QKLo1mqiiEW6WSQEkDc5pVCrdAC+ByTyffMSRiccM2loTcZQN5y0RBMc3W+0CPMSfoOkps5I8Il1MrmaVejFVRwEAyHkfiTMCQp+iL2B5JPCnTkldq3zBbjPc8GMwBnhz3GAYjxfwOXVpAsarGI9MD1ieZCy10KU3sNW1/UV9tV4UT0I90XSIQAxiiErigRxX0+2fXhP/bxf4Sf7Rma83TzLOnwRc6npNvQC4+jzTMGIAfd8vuTY7dubWG8j1wlKuo0cklo/wDr5Y12e3lN4G0R0SlJXMZja5HYiS+eoWJ+Vg26x7EfbM/5Y8Vmm1Ecc0zdNFY6Z9uz4wAld7H32rRoVuvd2yuaVu5iPhnJSafw8599Ll1q9MHhl0rxFmkLiyhKHex2uzVtoAjgm+Krtnx4dK2klXSSkmJ2rSysb+/w8h/aH5SfmUV3HOhGZ7xTxbSTQyRTWR1hA0dMJeruBTYo9QPZ1YewDA8Z2VVWtLTmZ54UpS+FXO8iHpvD02MjOxDbTtssSshfsKFcXfFAds7asRiVjMu5SihCVLL77wAAabt+vH0zO6zzFPoisWoIk6Q9RoB9TCxCpLFzRlQkB0991irAzSeXtVJLAJpSn4nrQRmwsbfIpb87V3I4s/bJKVpYTX+PLy1U6aEnwxWEShrvmge4WzsDfcLQP6ZH1HjsEbSpI4QwoHfcCPQezLfzD249+MoIvH9QdX/0/dF1Fl3Gf8phFP0wl/220gVfA9X2yT5g8uS6qbqmRE6IB0w27rksMWmscragbR+veq5ObecT0x8NGEkqzsmr3/H39zSaWcSIsgBAZQwDAg0RYsHkH7Z1zjpS2xd4AbaNwUkgNXNE1YvO2bPK9Tw5h/GPB5tUmnWFemU0wJnLEbwyV8ONpvaatie3Fc5uTkPwn/t4v8JP9ozMoqSszpRrSpSxx1PnwUVp4x0ejSAdLj0Vxt44rJmZPzfrJo5kOjZn1BjbdBW5DEL/ABGUkBWDdjfq7fpbeAMjaNCkzyKyEmVj69xJ3k38hDX6fy1XtkUs8JupReBVb6vTnpv9yL1/hNUyvxp9VICj+0eobhkf9kSUCp/a3A8soPSZBtkjMbGZnYq2w8kk9Ng9UAor342/zz/guvfWSrpdRIrwBH2MUoa5BaEncK2qDZC9zTDjLxdJq9L/AGDfEw8VDM9TIP8A45jYkHb0yUf7/tneE41FfR/nnqc/EeHlSlhlznpo87mgUcZRzoNkkRjYzO7lWCE2SxMTCSqUKNo78bf0uJH55gpjJFqYysnSZGhLMJDVJ+EW5NivrfF5G8e81amFeumjKwqakbUskZO4gK0aozOa91Kgn2woSWb/ACkZ8mUpKNs2XWrEfVb4gAjYvT3C19923+/f8arIsfmOKNVh9c01f2MKmSULZ2dWuI+K5crzeQ/BdBqNZCs+t1DbZRuXT6ZunEENFd7r+IzV39e3mqORvD/Enh1A8LhigjkEm7egCxfD3u+QG+tXp23/AHrrjJKdOKV8/wAc5c1Dw05Skl0152JMnjeokeRC0OiESCSTq/izBCL3UCI1HBFhn7fXLDwXwWH0asmSeVkBWbUcuFYX6EIAhv3Cqv3yB5k8uy6ubqXGghAMFjd1JLDHrWP7O1A2j9fpmn0rMUUuoVyoLKDYDVyAaFi/fMqrJ3SVl25c1Up01CLi7vr2/vpods8Oe4OQ4mT8d0EmoRYYkpvincai66G1z6lo2WN7QOxs3lj5T0rRaYQvF02jYqxBsSHuZQe53XZvm7yf4d2f/Gk/3nKjzjqGRImhdhqOqOhGvIlNetHW62bbJb8tX9jhpJ4j1U5yqRVDpfn0/Gu5ocpvE4nglOsiUuCoXURKLZkW9skY95FBPHdl47hRnHydOXhd3kdpjK3XV+OlJQHTVL9KgVVdwb5vKRfF5vi/hBqPwPia+Kr1bvnOkDVt3Xxu+np75VVw2e5F4WUpSin8PMuZlm3mDQ7pDJNE/UrZyDa7QDHXdSG3cGu/8vdH4to4UXpdKXUFVUppgjyu1AUxTsL7sxAHuc0TadDyVUn7gZBk8Y08bSozqhhQPICNtIRwwv5h7ce/Gd3OCXX7+x5oU5N5IzPlCERjUfFR75xM0Z2oX2pwyxKQDtHrL81e8N9hoZF2iAajlBFT7uV6lLW/2/aoni/vWV/mXTkw/H6ZmikEaszCkaSEeoqwkBXcAeN6mjY4s5E8utqtbG0vxsi6cuVjIjhE7BTTb2ClY+bAAXdXuDlnVjOV72+/oa/x54HPonYmp4g7u2l0dcPbSMCUgjKjsPzOxvalgAeo8UGf9H0STJFOOvOytIr6kmQttI3Fd/oUi72qBx7ZA1PiTaCX4GKOMmajpmLHhmpXOqLEsx3erd3a675YeZvApdaI4HZFiVS8kij8QyVtURg2EXkkmzY4++cpV3mqf9+Z2p+GUXHzXaL6+3oXfhmtjmjEkJtLKggEA7SVJW+4scEcH2yXWV/gcciwIkyoHQbD0/kIU0rAflsAHb7XWWGZXc4zSUmloe4xjKZPMYxgETwn/t4v8JP9oz71rskbuib3VSVSwCxA4Wz2vPjwn/t4v8JP9ozpromeN0RzGzKQrgAlSR8wB4JGRlja+ZUeFeYI9U/SijZl6ZMzMKEbHjpOD3fva+1c98sG1EPVEJKCSNOoFIoqnK7lvgDuDXa/vkHwny4mmkDwuyqU2yoTuEr9xKxPaTvZ9757DIPm3wGXWusY2xpGhYSnlndrHSIHIjoDd9bA9sxeSjnqevDQlVtF2jbV68+XT6mh0WrSaMSxsGRhasOxF1Y+2Zyby5OdT8fvj+IWTai1+H8PZGxjW7eVJbd7Hjt30PhW/op1I1jcKAyKbVSOKUj2+mS804qSVzjGrKlJ4Plvl7mf8zeHQStCJJDFPuYaWQE2stBrA+Umk7HuNw9zkfyf4hD+LpAEj1EcjmWJWJQtY3SQ3/4zYJA+UsQQD3meavD5NTEunQLtdxvkbvEq+rdGPd7AAPt3yBoPLbfDDTvUUmnkJ0+oj+YkixKw+rWQ6nhufqM3Gd3glpvt7GnGPk3xZ7fv2+pcL4DpwgjEYpZesOTu6u7dv3Xdk9+eQa7ZZVlR4H4u0haCdenqYwOon5WXsJYT+aNq/Udjzlxhwwuxxc3LVisYxkMg5E8I/wC3i/wk/wBoyWcieEf9vF/hJ/tGAfescojSKhdlUkKtBmrkKCfrlR4b49BqWEMKF1aMtL6aWKyRslB/OTuBX7G8uNbG7RssbbHKkK5G7aa4Ne9fTKjwfy4NNLvikfaykTK/q6sl2JSfyvybruK+mYd75aHen5WCWL4unv8ArvrkTyYOosX4fUiXqItC0Wim5R+UVY4yRpNUkqCSNg6G6ZTYNGjR/UZm/N3gkuskSNAsapGzdcnliwK9EBSDsPdr9qrntfeD7uhGHiELBQDGCCq1xSkdxxx9sJu9hOEVTUlK722/vp1M7qPL07ar/qFxdZJAscVegwC19T1fUIYnd7du13d+JQaczQNMRvDsIVZuC5XkhexYKDR9rNZaZR+bNA+oiXTxoPW4uUn+xC+rqL7l+KWvc84cbJ2NxqurOKk7JZX2XPuSfBoII+pFARSykugaxG7AMVA/KOb2j65zHlzT7AuztN1w247+ruvdvvd9u/bjtnLyponghMEiAFHIEgN9YHnqnm9xvm/cH2y8ypXWaMVJOM3hl9d+55We4xmjgM8Oe54cAi+Hdn/xpP8AeckMo71yO3/6yP4d2f8AxpP95yU2AZ7R+ZY3dYljcTtIVkhobottbnkPbbVUfexWWUqadNmnZYxvYskZApmU7yVXtYPq/XnKzR+WTHKuoE7GcuTO5HEqHuhS6VRQ21yK97N9fNfh8mpSOCNQLcM05PMIXkNGAbLnsPYc39DzvK2Z7JKi6iUHZdXt7Lp1+pbafVpJuCOG2OUaje1gASp+/IzOeYfLsuqm6u6NeiAdMNobdJasxmsfJagbR+veqsvKukeHTiCSNUMbFbX5ZB36v1Ba+b5u+/fLmstsSzOSm6FRum+1+blR4rFE8CfGbVUNGWXcen1LAVSeNy7j2PB4z60UGnj1MojIEsirJJGG4oWofZ2BPa/faPpn35hjdtPIiRLKzjZscgJ6jRL3+UXZrnjjKzyl4RJpDJC46gO1xqL9b8bdkgJv01x7UR75H8WhqKTot4rPbfTnfpoWOo8A08nW3x7jPXUJJJIUUoU3aAdxVUee+WMabQFF8ADk2ePqT3z7xm0kcHOUlZsYxjKZAz3PBnuAeZw1MLNW2Rk/+oU3+u4HO9YrAKjwvSSGCM/ESD8NeAsXHpHHKZK+Dk/eZP8ALF/wyYiAAACgBQA7AewGe4BC+Dk/eZP8sX/DHwcn7zJ/li/4ZNxgEL4OT95k/wAsX/DHwcn7zJ/li/4ZNwBgEL4OT94k/wAsX/DHwcn7zJ/li/4ZNxgFF4r5dM+xjqZUkjO6KVViDIfcfJyp7FTwc+4vDdRuiZ9SSyj8QqqqrmhaqlcKTzySR/rl1WKzTk2rAYxWKzIOGqjdgNj7Pqdoa/55XeF6aYwRET0OklDprx6RlxWfMcYUBQKAFADsAOwGAQ/hZv3j+muPhZv3j+muTsYBA+Fm/eP6a4+Fm/eP6a5PwQMAgfCzfvH9Nc9+Fm/eP6a5OxgEH4Wb94/prj4Wb94/prk7GAVM2h1BkjYajhSd3pAscenaODf19stsYwBnOdGK0rbT9aB/0OdKxWAU+g001NU9fiv/AONf2jkr4Wb94/prkxIwOwqyT/E8k59YBB+Fm/eP6a4+Fm/eP6a5OxgEH4ab/wB/+muPhpv3j+muTsYBB+Fm/eP6a4+Fm/eP6a5OxWAQfhZv3j+muRtfodQygJqKO4G9gFfU0Pm/T3vLesVgHygIABNmuT2s/WvbPrFYrAAz3GMAYxjAGR9ejNE6p8xRgtGvUVNc+3OSMYBhNPLrWZWj+IjDJp4XMiElWSHVNMwSSx85hXqVTGuSBkTVavxJpFmEcm9IG9HTqNd40htTTF3rrGqYgpW32b9FrFZvF2JYyvhGo8QYlnVWI08JVHuKN3Z5eozSdIuGCKh27ByxsCxVLBodXFTBtSD1t0kioGkZW1zhgRtII6e1qAuvtxn6JWKyYhYwWhXXBlG6fcajkmeMFgBJqyatdpAqKmo/MO/bJPlTx2efWNFO+0rDfR2VbqsHUIO3jazkEbzyw4FHNpWc006Bi4VQzVuYAWa7We5xi7Cx1xjGZKMYxgDGMYBW+YteYNNJKvLBajFE3I5CRgKOWtmHA75ldN5zkXoxMqNIXMcnULRSsy6mOEFItvzNHIsu01QNfcbthkc6NOoJtvrCFA3PykgkV27gc5pNLVEdzJeCec5dQ0KrFD+IU3FJGYIDDJIyfL/ajp/L/wDIvP1iv5/fpCQRwcru5lbbfRMvQvb/AG4I2la/Ovvxm30OiSGNIo12oihUHJoAUOTyeM9l0aM6OV9SFip+hYU3HY/xy4o7EszIzeapAonYKiB9WgXcSD0Z1gBl9Ng7rPBAHua5EMee5QpkKRU0cBRN1FTIZVd3Ymtm6LaD9WUXzm/2D6f/AMe+DGPoP5ZMS2FmY7zB41OUieMPAvSllf5CX26VpFVGpgQG7mhyo7i8r/EvNWpRJgZIV2DVL6TUoMenWWEDcCokIJblSCBdUM/QiueGMfQfyxiWxbGJ1vnWSJXZoo63ypGdzk/hakwMZAF9+CAt5sdDKzRIzgBmRSwU2oJAJAPuPvnLxLwuKdNkikgNuG1mRgRfIZCGHc9j7nO+l06xoscahURQqqOAqqKUAfQAYbT0CTO2MYzJRnhz3BwDCanzJqFlbYyySLPqEOjpbWKGORo5CQN4LbU9R9J6wAHY500/nhpJYlWAdOVGkRy4G6LqTrGyg1u4iVyBZAlX+O12Dv755sH07ds1iWxLMyur8W1Mmm0zKvReZ9OzutMgSVwTGjMLLVQJK9iays0fmnUfhgyQhSdLZlPr2ThwWYihy6hQaAvjvm+2550x9B/LCkthYwWj86ypp1d41ZViQF2c9RpDo49TucKgWvUQdoF+wGa/wDXNPp0mcKC4JpSSK3Hb35sijR5F1nfW6FJY2ikW1buASp47EFaIIocj6Y8O0McEYiiXagsgWSbZizEliSzFiSSTZJJw2n0CTJWMYzJRjGMAYxjAGMYwBnzJIFFsQB9SaH0HfPrK3x4fhLxYGogJ/QTxm/0HB/QYBY3i8y2l0GqjRY4wylVQIWkBRSJH6xkBYlgybQvBrjheTkuODUdCQfiqxKFAWRn4VN4veBtLBuA4NE0RxVsQvVcHsb5r+P0wzgCyaA5JP0zNfB6skE719akhZBVGaLqc2L/D6nJ5+nNZB1en1cqywVIT0CjAuuwhoJ1Cmz6mLGI39u45tYXNpeLyn8O08++Xqs1HeF59NF22FSHJUhKB9K/xPOQ/CNFqI+ghDqqJGpuQFQqxsJFYbiWYvRB9ht5FEYsU0uMYyAYxjAGMYwBjGMAYxjAGMYwBjGMAYxjAGMYwBnl5X+YWI0svJHoIJBohTw5B9qUk39sqYNVOjsKY3OSu5SdwOpaNlX9kJEAw/wDtfYHLYlzTXi8zUfiep6QZgN/QicL02ALPu6h9yAnHp5PHN7hkOeTVGUmySYwq9PeUHp121l4UFjsiuwRbCvynFhc2N4vMhqtdqEVnQtIRbICrEUNBIwNJVgyrVH3+9ETG8VmE4hNACRQz7KUqz0u4k+kn5Vq7b6YwsXNJnl5x6zbtvTar+a0rt3+a/wDTKDVa7URvOFtqeQpaFuRDG0UagezsW5/ukdzkSuU0t57lT4ZrZXlZXWgN9jaRsKylUFn5tyDd/r2YZbYAxjGAMYxgDGMYAzw57jAKzW+Mxxy9IqzPtDUgBPO/aKJBJJQjjtxdZDPmiJkLxq7DprIr0NhEhkEJu7IYxmqHYgmryz1PhscjFmBspsamddy88MFIDAbmq+1mqyGvl2AStJt4ZFXZZCimmYmgaNmZq+ntV5ciZny3jqhghFN6CflPDVdANa9x8wHfi89PjoMDTpE5KlBsbarESbCpuyPlcHv9s6w+E6cksqWQ3PqagwIJoXS8gE13POdx4bEEaMJSsAGALflUKtG7BAUURzxffGQzK6PzGoDdRGUiR0X5afbMY+CWoEcXdDni8uNLOJEWRbp1DCxRoixY9jkGXw+DcIytMQ7rTOG/tFeRlYGwd7KbBvn9cskSgAPYVySf9TycA+sYxkKMYxgDGMYAxjGAMYxgDGMYAxjGAMYxgDGMYB8TRhlKsAVYEMCLBBFEEHuKyI3isIZlLi1rcACeSdoAocm7FD6H6ZNOZ7TeAuJpHaSrkMiEHcQ29iu1WWlG12BFtZa+MqIyz/6tB/7q/Luu+K2huD2J2kGu9EHOUPjcbIj+qpJ3gWlJ9aNIpJrsPwz/APmucjjy1GFCh32ghlFr6ZAioJAa5NL2PFk8fSVF4QFRU3sSs7zbjtss7uzggCq/EYfYV9MZDMTeMxCF5wwZY13NX07gi/YjkHsc8+I00jofQz9lJHqBDMADY9J3K1A1yprkZyi8BQQvDvcho0iDencscYIQDiiRZNkG7xB5fjWUTXufuSyoSTvdwQStpRkb5a4rGQzOo8bg9QL7drOp3Aj+zALkccqLHP3zu/iMQbZvG7dtr+9wACfayyjn3IHfI03gaMXJZqdZVI44EwQPXH9yx+pzinl1BIJixdw28l1jNmwy16fRRXgrR59yAQyGZZaDUiWJJQCA6BqPcWLo/cdv4ZJyJ4VpTFBHESCVQBiOxavUR9rvJeQoxjGAMYxgDGMYAxjGARPFIGeJlQ0/DJZIG9CGTcRztsC+/F98otV4JqGAUOg/DKs4dw7FlJeyB23mxRFccXmnOMXsRozs3hE+8bDGEEpYHcwZVJHpXiq28Vxnmi8EmjKWVZVA9Jd+H6cIMotTuYMkho9992LOaPAy4mLGc8K8LkieBXLMRvd33bl4iSM87Fosx3UbJ2k3eaQZ5nuS9y2GMYwBjGMAYxjAGMYwBjGMAYxjAGMYwBjGMAYxjAGMYwBjGMAYxjAGMYwBjGMAYxjAGMYwD//Z)\n",
    "\n",
    "Let us take a definition to underfitting, overfitting and appropriate fitting.\n",
    "\n",
    "Overfitting - The performance on the data is good but the accuracy generates overfits(poor) the data. \n",
    "\n",
    "Underfitting - The performance is poor and the accuracy generated by the model is also poor\n",
    "\n",
    "Appropriate fitting - The performance and the generalization are both good"
   ]
  },
  {
   "cell_type": "code",
   "execution_count": null,
   "metadata": {
    "colab": {},
    "colab_type": "code",
    "id": "l7sWIUmc1Br9"
   },
   "outputs": [],
   "source": [
    "# Making a classifier using oneClassSVM algorithm.\n",
    "\n",
    "from sklearn.svm import OneClassSVM\n",
    "\n",
    "classifiers = {\n",
    "    \"Isolation Forest\":IsolationForest(n_estimators=100, max_samples=len(db), \n",
    "                                       contamination=outlier_fraction,random_state = 0, verbose=0),\n",
    "    \"Local Outlier Factor\":LocalOutlierFactor(n_neighbors=20, algorithm='auto', \n",
    "                                              leaf_size=30, metric='minkowski',\n",
    "                                              p=2, metric_params=None, contamination=outlier_fraction),\n",
    "    \"Support Vector Machine\":OneClassSVM(kernel='rbf', degree=3, gamma=0.1,nu=0.05, \n",
    "                                         max_iter=-1)\n",
    "   \n",
    "}\n",
    "\n"
   ]
  },
  {
   "cell_type": "code",
   "execution_count": null,
   "metadata": {
    "colab": {
     "base_uri": "https://localhost:8080/",
     "height": 749
    },
    "colab_type": "code",
    "id": "CcEN9zHsz-sR",
    "outputId": "8f58241d-1bc4-46dd-e40f-3d34f6bdb201"
   },
   "outputs": [
    {
     "name": "stderr",
     "output_type": "stream",
     "text": [
      "/usr/local/lib/python3.6/dist-packages/sklearn/ensemble/_iforest.py:281: UserWarning: max_samples (27819) is greater than the total number of samples (2782). max_samples will be set to n_samples for estimation.\n",
      "  % (self.max_samples, n_samples))\n"
     ]
    },
    {
     "name": "stdout",
     "output_type": "stream",
     "text": [
      "Isolation Forest: 9\n",
      "Accuracy Score :\n",
      "0.996764917325665\n",
      "Classification Report :\n",
      "              precision    recall  f1-score   support\n",
      "\n",
      "         0.0       1.00      1.00      1.00      2770\n",
      "         1.0       0.62      0.67      0.64        12\n",
      "\n",
      "    accuracy                           1.00      2782\n",
      "   macro avg       0.81      0.83      0.82      2782\n",
      "weighted avg       1.00      1.00      1.00      2782\n",
      "\n",
      "Local Outlier Factor: 25\n",
      "Accuracy Score :\n",
      "0.9910136592379583\n",
      "Classification Report :\n",
      "              precision    recall  f1-score   support\n",
      "\n",
      "         0.0       1.00      1.00      1.00      2770\n",
      "         1.0       0.00      0.00      0.00        12\n",
      "\n",
      "    accuracy                           0.99      2782\n",
      "   macro avg       0.50      0.50      0.50      2782\n",
      "weighted avg       0.99      0.99      0.99      2782\n",
      "\n",
      "Support Vector Machine: 1659\n",
      "Accuracy Score :\n",
      "0.403666427030913\n",
      "Classification Report :\n",
      "              precision    recall  f1-score   support\n",
      "\n",
      "         0.0       1.00      0.40      0.57      2770\n",
      "         1.0       0.00      0.58      0.01        12\n",
      "\n",
      "    accuracy                           0.40      2782\n",
      "   macro avg       0.50      0.49      0.29      2782\n",
      "weighted avg       0.99      0.40      0.57      2782\n",
      "\n"
     ]
    }
   ],
   "source": [
    "columns = data1.columns.tolist()\n",
    "# Filter the columns to remove data we do not want \n",
    "columns = [c for c in columns if c not in [\"Class\"]]\n",
    "# Store the variable we are predicting \n",
    "target = \"Class\"\n",
    "\n",
    "X = data1[columns]\n",
    "Y = data1[target]\n",
    "n_outliers = len(Fraud)\n",
    "for i, (clf_name,clf) in enumerate(classifiers.items()):\n",
    "    #Fit the data and tag outliers\n",
    "    if clf_name == \"Local Outlier Factor\":\n",
    "        y_pred = clf.fit_predict(X)\n",
    "        scores_prediction = clf.negative_outlier_factor_\n",
    "    elif clf_name == \"Support Vector Machine\":\n",
    "        clf.fit(X)\n",
    "        y_pred = clf.predict(X)\n",
    "    else:    \n",
    "        clf.fit(X)\n",
    "        scores_prediction = clf.decision_function(X)\n",
    "        y_pred = clf.predict(X)\n",
    "    #Reshape the prediction values to 0 for Valid transactions , 1 for Fraud transactions\n",
    "    y_pred[y_pred == 1] = 0\n",
    "    y_pred[y_pred == -1] = 1\n",
    "    n_errors = (y_pred != Y).sum()\n",
    "    # Run Classification Metrics\n",
    "    print(\"{}: {}\".format(clf_name,n_errors))\n",
    "    print(\"Accuracy Score :\")\n",
    "    print(accuracy_score(Y,y_pred))\n",
    "    print(\"Classification Report :\")\n",
    "    print(classification_report(Y,y_pred))\n"
   ]
  },
  {
   "cell_type": "markdown",
   "metadata": {
    "colab_type": "text",
    "id": "R3x2pbpg9BoK"
   },
   "source": [
    "\n",
    "We can also improve on this accuracy by increasing the sample size or use deep learning algorithms however at the cost of computational expense.We can also use complex anomaly detection models to get better accuracy in determining more fraudulent cases \n",
    "\n",
    "Thus we can use autoencoder."
   ]
  },
  {
   "cell_type": "markdown",
   "metadata": {
    "colab_type": "text",
    "id": "SP9OyOLF9Rp7"
   },
   "source": [
    "# **Advantages of Anamoly Detection**\n",
    "\n",
    "1. It can Monitor the data source, networks, users, etc.\n",
    "2. It can identify the Security threads.\n",
    "3. It can find the trend of the unusual behavior of the data set and handles the security and safity.\n",
    "4. It can identify key outliers.\n"
   ]
  },
  {
   "cell_type": "markdown",
   "metadata": {
    "colab_type": "text",
    "id": "bETl9rG--ecZ"
   },
   "source": [
    "# **Disadvantages**\n",
    "\n",
    "The biggest Disadvantage is that it cannot identify the novelty attacks and the various existing attacks."
   ]
  }
 ],
 "metadata": {
  "colab": {
   "collapsed_sections": [],
   "name": "Anamoly Detection",
   "provenance": []
  },
  "kernelspec": {
   "display_name": "Python 3",
   "language": "python",
   "name": "python3"
  },
  "language_info": {
   "codemirror_mode": {
    "name": "ipython",
    "version": 3
   },
   "file_extension": ".py",
   "mimetype": "text/x-python",
   "name": "python",
   "nbconvert_exporter": "python",
   "pygments_lexer": "ipython3",
   "version": "3.7.4"
  }
 },
 "nbformat": 4,
 "nbformat_minor": 4
}
